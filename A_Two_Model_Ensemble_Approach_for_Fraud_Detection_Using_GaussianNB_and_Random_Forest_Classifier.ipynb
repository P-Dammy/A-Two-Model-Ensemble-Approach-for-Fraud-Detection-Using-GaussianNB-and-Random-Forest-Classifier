{
  "cells": [
    {
      "cell_type": "markdown",
      "metadata": {
        "id": "view-in-github",
        "colab_type": "text"
      },
      "source": [
        "<a href=\"https://colab.research.google.com/github/P-Dammy/A-Two-Model-Ensemble-Approach-for-Fraud-Detection-Using-GaussianNB-and-Random-Forest-Classifier/blob/main/A_Two_Model_Ensemble_Approach_for_Fraud_Detection_Using_GaussianNB_and_Random_Forest_Classifier.ipynb\" target=\"_parent\"><img src=\"https://colab.research.google.com/assets/colab-badge.svg\" alt=\"Open In Colab\"/></a>"
      ]
    },
    {
      "cell_type": "markdown",
      "id": "70b68008",
      "metadata": {
        "id": "70b68008"
      },
      "source": [
        "## This is a Two-Model Ensemble Approach for Fraud Detection Using GaussianNB and Random Forest Classifier.\n",
        "\n",
        "The approach involves selecting a machine learning model with the best clasification accuracy on the training and test data set. Another machine learnng model with a different internal algorithm structure is selected to perform another classification task on the misclassified data points of the first model. The predicting capacity of the two models are then linearly combined. This new combined model has a classification accuracy significantly superior to each of the combining models individually.\n",
        "\n",
        "The data set used for this is a data on fraudulent transactions gotten from internet. The data was preprocesses and exploratory analysis was first carried out on the data."
      ]
    },
    {
      "cell_type": "code",
      "execution_count": null,
      "id": "c2a632fb",
      "metadata": {
        "id": "c2a632fb"
      },
      "outputs": [],
      "source": [
        "# Importing the required libraries\n",
        "import numpy as np\n",
        "import pandas as pd\n",
        "import matplotlib.pyplot as plt\n",
        "import seaborn as sns"
      ]
    },
    {
      "cell_type": "code",
      "execution_count": null,
      "id": "56ed478a",
      "metadata": {
        "scrolled": false,
        "id": "56ed478a",
        "outputId": "63694ba2-bfc4-46dc-93a2-a03f2e775e44"
      },
      "outputs": [
        {
          "data": {
            "text/html": [
              "<div>\n",
              "<style scoped>\n",
              "    .dataframe tbody tr th:only-of-type {\n",
              "        vertical-align: middle;\n",
              "    }\n",
              "\n",
              "    .dataframe tbody tr th {\n",
              "        vertical-align: top;\n",
              "    }\n",
              "\n",
              "    .dataframe thead th {\n",
              "        text-align: right;\n",
              "    }\n",
              "</style>\n",
              "<table border=\"1\" class=\"dataframe\">\n",
              "  <thead>\n",
              "    <tr style=\"text-align: right;\">\n",
              "      <th></th>\n",
              "      <th>step</th>\n",
              "      <th>type</th>\n",
              "      <th>amount</th>\n",
              "      <th>nameOrig</th>\n",
              "      <th>oldbalanceOrg</th>\n",
              "      <th>newbalanceOrig</th>\n",
              "      <th>nameDest</th>\n",
              "      <th>oldbalanceDest</th>\n",
              "      <th>newbalanceDest</th>\n",
              "      <th>isFraud</th>\n",
              "      <th>isFlaggedFraud</th>\n",
              "    </tr>\n",
              "  </thead>\n",
              "  <tbody>\n",
              "    <tr>\n",
              "      <th>0</th>\n",
              "      <td>1</td>\n",
              "      <td>PAYMENT</td>\n",
              "      <td>9839.64</td>\n",
              "      <td>C1231006815</td>\n",
              "      <td>170136.00</td>\n",
              "      <td>160296.36</td>\n",
              "      <td>M1979787155</td>\n",
              "      <td>0.00</td>\n",
              "      <td>0.00</td>\n",
              "      <td>0</td>\n",
              "      <td>0</td>\n",
              "    </tr>\n",
              "    <tr>\n",
              "      <th>1</th>\n",
              "      <td>1</td>\n",
              "      <td>PAYMENT</td>\n",
              "      <td>1864.28</td>\n",
              "      <td>C1666544295</td>\n",
              "      <td>21249.00</td>\n",
              "      <td>19384.72</td>\n",
              "      <td>M2044282225</td>\n",
              "      <td>0.00</td>\n",
              "      <td>0.00</td>\n",
              "      <td>0</td>\n",
              "      <td>0</td>\n",
              "    </tr>\n",
              "    <tr>\n",
              "      <th>2</th>\n",
              "      <td>1</td>\n",
              "      <td>TRANSFER</td>\n",
              "      <td>181.00</td>\n",
              "      <td>C1305486145</td>\n",
              "      <td>181.00</td>\n",
              "      <td>0.00</td>\n",
              "      <td>C553264065</td>\n",
              "      <td>0.00</td>\n",
              "      <td>0.00</td>\n",
              "      <td>1</td>\n",
              "      <td>0</td>\n",
              "    </tr>\n",
              "    <tr>\n",
              "      <th>3</th>\n",
              "      <td>1</td>\n",
              "      <td>CASH_OUT</td>\n",
              "      <td>181.00</td>\n",
              "      <td>C840083671</td>\n",
              "      <td>181.00</td>\n",
              "      <td>0.00</td>\n",
              "      <td>C38997010</td>\n",
              "      <td>21182.00</td>\n",
              "      <td>0.00</td>\n",
              "      <td>1</td>\n",
              "      <td>0</td>\n",
              "    </tr>\n",
              "    <tr>\n",
              "      <th>4</th>\n",
              "      <td>1</td>\n",
              "      <td>PAYMENT</td>\n",
              "      <td>11668.14</td>\n",
              "      <td>C2048537720</td>\n",
              "      <td>41554.00</td>\n",
              "      <td>29885.86</td>\n",
              "      <td>M1230701703</td>\n",
              "      <td>0.00</td>\n",
              "      <td>0.00</td>\n",
              "      <td>0</td>\n",
              "      <td>0</td>\n",
              "    </tr>\n",
              "    <tr>\n",
              "      <th>...</th>\n",
              "      <td>...</td>\n",
              "      <td>...</td>\n",
              "      <td>...</td>\n",
              "      <td>...</td>\n",
              "      <td>...</td>\n",
              "      <td>...</td>\n",
              "      <td>...</td>\n",
              "      <td>...</td>\n",
              "      <td>...</td>\n",
              "      <td>...</td>\n",
              "      <td>...</td>\n",
              "    </tr>\n",
              "    <tr>\n",
              "      <th>6362615</th>\n",
              "      <td>743</td>\n",
              "      <td>CASH_OUT</td>\n",
              "      <td>339682.13</td>\n",
              "      <td>C786484425</td>\n",
              "      <td>339682.13</td>\n",
              "      <td>0.00</td>\n",
              "      <td>C776919290</td>\n",
              "      <td>0.00</td>\n",
              "      <td>339682.13</td>\n",
              "      <td>1</td>\n",
              "      <td>0</td>\n",
              "    </tr>\n",
              "    <tr>\n",
              "      <th>6362616</th>\n",
              "      <td>743</td>\n",
              "      <td>TRANSFER</td>\n",
              "      <td>6311409.28</td>\n",
              "      <td>C1529008245</td>\n",
              "      <td>6311409.28</td>\n",
              "      <td>0.00</td>\n",
              "      <td>C1881841831</td>\n",
              "      <td>0.00</td>\n",
              "      <td>0.00</td>\n",
              "      <td>1</td>\n",
              "      <td>0</td>\n",
              "    </tr>\n",
              "    <tr>\n",
              "      <th>6362617</th>\n",
              "      <td>743</td>\n",
              "      <td>CASH_OUT</td>\n",
              "      <td>6311409.28</td>\n",
              "      <td>C1162922333</td>\n",
              "      <td>6311409.28</td>\n",
              "      <td>0.00</td>\n",
              "      <td>C1365125890</td>\n",
              "      <td>68488.84</td>\n",
              "      <td>6379898.11</td>\n",
              "      <td>1</td>\n",
              "      <td>0</td>\n",
              "    </tr>\n",
              "    <tr>\n",
              "      <th>6362618</th>\n",
              "      <td>743</td>\n",
              "      <td>TRANSFER</td>\n",
              "      <td>850002.52</td>\n",
              "      <td>C1685995037</td>\n",
              "      <td>850002.52</td>\n",
              "      <td>0.00</td>\n",
              "      <td>C2080388513</td>\n",
              "      <td>0.00</td>\n",
              "      <td>0.00</td>\n",
              "      <td>1</td>\n",
              "      <td>0</td>\n",
              "    </tr>\n",
              "    <tr>\n",
              "      <th>6362619</th>\n",
              "      <td>743</td>\n",
              "      <td>CASH_OUT</td>\n",
              "      <td>850002.52</td>\n",
              "      <td>C1280323807</td>\n",
              "      <td>850002.52</td>\n",
              "      <td>0.00</td>\n",
              "      <td>C873221189</td>\n",
              "      <td>6510099.11</td>\n",
              "      <td>7360101.63</td>\n",
              "      <td>1</td>\n",
              "      <td>0</td>\n",
              "    </tr>\n",
              "  </tbody>\n",
              "</table>\n",
              "<p>6362620 rows × 11 columns</p>\n",
              "</div>"
            ],
            "text/plain": [
              "         step      type      amount     nameOrig  oldbalanceOrg  \\\n",
              "0           1   PAYMENT     9839.64  C1231006815      170136.00   \n",
              "1           1   PAYMENT     1864.28  C1666544295       21249.00   \n",
              "2           1  TRANSFER      181.00  C1305486145         181.00   \n",
              "3           1  CASH_OUT      181.00   C840083671         181.00   \n",
              "4           1   PAYMENT    11668.14  C2048537720       41554.00   \n",
              "...       ...       ...         ...          ...            ...   \n",
              "6362615   743  CASH_OUT   339682.13   C786484425      339682.13   \n",
              "6362616   743  TRANSFER  6311409.28  C1529008245     6311409.28   \n",
              "6362617   743  CASH_OUT  6311409.28  C1162922333     6311409.28   \n",
              "6362618   743  TRANSFER   850002.52  C1685995037      850002.52   \n",
              "6362619   743  CASH_OUT   850002.52  C1280323807      850002.52   \n",
              "\n",
              "         newbalanceOrig     nameDest  oldbalanceDest  newbalanceDest  isFraud  \\\n",
              "0             160296.36  M1979787155            0.00            0.00        0   \n",
              "1              19384.72  M2044282225            0.00            0.00        0   \n",
              "2                  0.00   C553264065            0.00            0.00        1   \n",
              "3                  0.00    C38997010        21182.00            0.00        1   \n",
              "4              29885.86  M1230701703            0.00            0.00        0   \n",
              "...                 ...          ...             ...             ...      ...   \n",
              "6362615            0.00   C776919290            0.00       339682.13        1   \n",
              "6362616            0.00  C1881841831            0.00            0.00        1   \n",
              "6362617            0.00  C1365125890        68488.84      6379898.11        1   \n",
              "6362618            0.00  C2080388513            0.00            0.00        1   \n",
              "6362619            0.00   C873221189      6510099.11      7360101.63        1   \n",
              "\n",
              "         isFlaggedFraud  \n",
              "0                     0  \n",
              "1                     0  \n",
              "2                     0  \n",
              "3                     0  \n",
              "4                     0  \n",
              "...                 ...  \n",
              "6362615               0  \n",
              "6362616               0  \n",
              "6362617               0  \n",
              "6362618               0  \n",
              "6362619               0  \n",
              "\n",
              "[6362620 rows x 11 columns]"
            ]
          },
          "execution_count": 74,
          "metadata": {},
          "output_type": "execute_result"
        }
      ],
      "source": [
        "# Bringing in the data\n",
        "\n",
        "df = pd.read_csv('onlinefraud.csv')\n",
        "df"
      ]
    },
    {
      "cell_type": "code",
      "execution_count": null,
      "id": "826a1a6c",
      "metadata": {
        "scrolled": true,
        "id": "826a1a6c",
        "outputId": "af24b312-4c58-4375-f460-ab00a2460d56"
      },
      "outputs": [
        {
          "name": "stdout",
          "output_type": "stream",
          "text": [
            "<class 'pandas.core.frame.DataFrame'>\n",
            "RangeIndex: 6362620 entries, 0 to 6362619\n",
            "Data columns (total 11 columns):\n",
            " #   Column          Dtype  \n",
            "---  ------          -----  \n",
            " 0   step            int64  \n",
            " 1   type            object \n",
            " 2   amount          float64\n",
            " 3   nameOrig        object \n",
            " 4   oldbalanceOrg   float64\n",
            " 5   newbalanceOrig  float64\n",
            " 6   nameDest        object \n",
            " 7   oldbalanceDest  float64\n",
            " 8   newbalanceDest  float64\n",
            " 9   isFraud         int64  \n",
            " 10  isFlaggedFraud  int64  \n",
            "dtypes: float64(5), int64(3), object(3)\n",
            "memory usage: 534.0+ MB\n"
          ]
        }
      ],
      "source": [
        "# Checking out what the data looks like\n",
        "\n",
        "df.info()"
      ]
    },
    {
      "cell_type": "code",
      "execution_count": null,
      "id": "1f75fcdb",
      "metadata": {
        "scrolled": false,
        "id": "1f75fcdb",
        "outputId": "a5956b82-4366-4857-cf52-6a911106dcca"
      },
      "outputs": [
        {
          "name": "stdout",
          "output_type": "stream",
          "text": [
            "Index(['step', 'type', 'amount', 'nameOrig', 'oldbalanceOrg', 'newbalanceOrig',\n",
            "       'nameDest', 'oldbalanceDest', 'newbalanceDest', 'isFraud',\n",
            "       'isFlaggedFraud'],\n",
            "      dtype='object')\n"
          ]
        }
      ],
      "source": [
        "# Checking the column names\n",
        "\n",
        "print(df.columns)"
      ]
    },
    {
      "cell_type": "code",
      "execution_count": null,
      "id": "ec2d0748",
      "metadata": {
        "scrolled": true,
        "id": "ec2d0748",
        "outputId": "c56263c5-800e-407d-ff44-24ef490ab191"
      },
      "outputs": [
        {
          "data": {
            "text/plain": [
              "array(['PAYMENT', 'TRANSFER', 'CASH_OUT', 'DEBIT', 'CASH_IN'],\n",
              "      dtype=object)"
            ]
          },
          "execution_count": 7,
          "metadata": {},
          "output_type": "execute_result"
        }
      ],
      "source": [
        "# Checking the different transaction types contained in the data\n",
        "\n",
        "df.type.unique()"
      ]
    },
    {
      "cell_type": "code",
      "execution_count": null,
      "id": "0ded29b7",
      "metadata": {
        "id": "0ded29b7",
        "outputId": "d3a7cd72-286a-4fef-d07a-8dd4d19f1e9e"
      },
      "outputs": [
        {
          "data": {
            "text/plain": [
              "step              0\n",
              "type              0\n",
              "amount            0\n",
              "nameOrig          0\n",
              "oldbalanceOrg     0\n",
              "newbalanceOrig    0\n",
              "nameDest          0\n",
              "oldbalanceDest    0\n",
              "newbalanceDest    0\n",
              "isFraud           0\n",
              "isFlaggedFraud    0\n",
              "dtype: int64"
            ]
          },
          "execution_count": 8,
          "metadata": {},
          "output_type": "execute_result"
        }
      ],
      "source": [
        "# checking for missing data\n",
        "\n",
        "df.isna().sum()"
      ]
    },
    {
      "cell_type": "code",
      "execution_count": null,
      "id": "fd1bd918",
      "metadata": {
        "id": "fd1bd918",
        "outputId": "a47b7dd5-1b7e-4778-a357-69fa4abd21eb"
      },
      "outputs": [
        {
          "data": {
            "text/plain": [
              "array([0, 1], dtype=int64)"
            ]
          },
          "execution_count": 9,
          "metadata": {},
          "output_type": "execute_result"
        }
      ],
      "source": [
        "df.isFraud.unique()"
      ]
    },
    {
      "cell_type": "markdown",
      "id": "38331e74",
      "metadata": {
        "id": "38331e74"
      },
      "source": [
        "# Descriptive Analysis"
      ]
    },
    {
      "cell_type": "code",
      "execution_count": null,
      "id": "b6ef3c05",
      "metadata": {
        "scrolled": true,
        "id": "b6ef3c05",
        "outputId": "44becd90-41e6-4a88-d7ee-cc47cb32958e"
      },
      "outputs": [
        {
          "name": "stdout",
          "output_type": "stream",
          "text": [
            "type\n",
            "CASH_OUT    2237500\n",
            "PAYMENT     2151495\n",
            "CASH_IN     1399284\n",
            "TRANSFER     532909\n",
            "DEBIT         41432\n",
            "Name: count, dtype: int64\n"
          ]
        }
      ],
      "source": [
        "# Checking out the sum of each transaction types\n",
        "\n",
        "data = print(df.type.value_counts())"
      ]
    },
    {
      "cell_type": "code",
      "execution_count": null,
      "id": "5d2b0445",
      "metadata": {
        "id": "5d2b0445",
        "outputId": "5edb54ee-e079-4f4d-a1d3-17622c2703b8"
      },
      "outputs": [
        {
          "data": {
            "image/png": "[encoded data removed]",
            "text/plain": [
              "<Figure size 576x576 with 1 Axes>"
            ]
          },
          "metadata": {},
          "output_type": "display_data"
        }
      ],
      "source": [
        "# Pie chart representation of the transaction types\n",
        "\n",
        "type_counts = df[\"type\"].value_counts()\n",
        "plt.figure(figsize=(8, 8))\n",
        "plt.pie(type_counts, labels=type_counts.index, autopct='%1.1f%%', startangle=90)\n",
        "plt.title(\"Distribution of Transaction Types\")\n",
        "plt.show()"
      ]
    },
    {
      "cell_type": "code",
      "execution_count": null,
      "id": "d91e28ec",
      "metadata": {
        "scrolled": true,
        "id": "d91e28ec",
        "outputId": "1a298be1-f510-41b3-94d0-2f1e09cd170c"
      },
      "outputs": [
        {
          "data": {
            "image/png": "[encoded data removed]",
            "text/plain": [
              "<Figure size 720x432 with 1 Axes>"
            ]
          },
          "metadata": {
            "needs_background": "light"
          },
          "output_type": "display_data"
        }
      ],
      "source": [
        "#Bar chart representation of trasaction volume by types.\n",
        "\n",
        "colors = ['skyblue', 'salmon', 'lightgreen', 'orange', 'lightcoral']\n",
        "plt.figure(figsize=(10, 6))\n",
        "type_counts.plot(kind='bar', color=colors)\n",
        "plt.xlabel('Transaction Type')\n",
        "plt.ylabel('Quantity')\n",
        "plt.title('Distribution of Transaction Type')\n",
        "plt.xticks(rotation=45, ha='right')\n",
        "plt.tight_layout()\n",
        "plt.show()"
      ]
    },
    {
      "cell_type": "markdown",
      "id": "b8d3ffbf",
      "metadata": {
        "id": "b8d3ffbf"
      },
      "source": [
        "The plot above reveals that there were Five different transactions that took place, namely  Cash out, payment, Cash_in, Transfer and debit with the percentage occurence of 35.2%,33.8%,22.0%, 8.4% and 0.7% respectively.The result of this description further reveals that the cash_out transaction had the highest number of occurence while debit transaction has the lowest."
      ]
    },
    {
      "cell_type": "code",
      "execution_count": null,
      "id": "b3a377da",
      "metadata": {
        "scrolled": false,
        "id": "b3a377da",
        "outputId": "acfc21fc-1448-48e2-b15d-1841e48af341"
      },
      "outputs": [
        {
          "data": {
            "text/html": [
              "<div>\n",
              "<style scoped>\n",
              "    .dataframe tbody tr th:only-of-type {\n",
              "        vertical-align: middle;\n",
              "    }\n",
              "\n",
              "    .dataframe tbody tr th {\n",
              "        vertical-align: top;\n",
              "    }\n",
              "\n",
              "    .dataframe thead th {\n",
              "        text-align: right;\n",
              "    }\n",
              "</style>\n",
              "<table border=\"1\" class=\"dataframe\">\n",
              "  <thead>\n",
              "    <tr style=\"text-align: right;\">\n",
              "      <th></th>\n",
              "      <th>count</th>\n",
              "      <th>mean</th>\n",
              "      <th>std</th>\n",
              "      <th>min</th>\n",
              "      <th>25%</th>\n",
              "      <th>50%</th>\n",
              "      <th>75%</th>\n",
              "      <th>max</th>\n",
              "    </tr>\n",
              "  </thead>\n",
              "  <tbody>\n",
              "    <tr>\n",
              "      <th>step</th>\n",
              "      <td>6362620.0</td>\n",
              "      <td>243.40</td>\n",
              "      <td>142.33</td>\n",
              "      <td>1.0</td>\n",
              "      <td>156.00</td>\n",
              "      <td>239.00</td>\n",
              "      <td>335.00</td>\n",
              "      <td>7.430000e+02</td>\n",
              "    </tr>\n",
              "    <tr>\n",
              "      <th>amount</th>\n",
              "      <td>6362620.0</td>\n",
              "      <td>179861.90</td>\n",
              "      <td>603858.23</td>\n",
              "      <td>0.0</td>\n",
              "      <td>13389.57</td>\n",
              "      <td>74871.94</td>\n",
              "      <td>208721.48</td>\n",
              "      <td>9.244552e+07</td>\n",
              "    </tr>\n",
              "    <tr>\n",
              "      <th>oldbalanceOrg</th>\n",
              "      <td>6362620.0</td>\n",
              "      <td>833883.10</td>\n",
              "      <td>2888242.67</td>\n",
              "      <td>0.0</td>\n",
              "      <td>0.00</td>\n",
              "      <td>14208.00</td>\n",
              "      <td>107315.18</td>\n",
              "      <td>5.958504e+07</td>\n",
              "    </tr>\n",
              "    <tr>\n",
              "      <th>newbalanceOrig</th>\n",
              "      <td>6362620.0</td>\n",
              "      <td>855113.67</td>\n",
              "      <td>2924048.50</td>\n",
              "      <td>0.0</td>\n",
              "      <td>0.00</td>\n",
              "      <td>0.00</td>\n",
              "      <td>144258.41</td>\n",
              "      <td>4.958504e+07</td>\n",
              "    </tr>\n",
              "    <tr>\n",
              "      <th>oldbalanceDest</th>\n",
              "      <td>6362620.0</td>\n",
              "      <td>1100701.67</td>\n",
              "      <td>3399180.11</td>\n",
              "      <td>0.0</td>\n",
              "      <td>0.00</td>\n",
              "      <td>132705.66</td>\n",
              "      <td>943036.71</td>\n",
              "      <td>3.560159e+08</td>\n",
              "    </tr>\n",
              "    <tr>\n",
              "      <th>newbalanceDest</th>\n",
              "      <td>6362620.0</td>\n",
              "      <td>1224996.40</td>\n",
              "      <td>3674128.94</td>\n",
              "      <td>0.0</td>\n",
              "      <td>0.00</td>\n",
              "      <td>214661.44</td>\n",
              "      <td>1111909.25</td>\n",
              "      <td>3.561793e+08</td>\n",
              "    </tr>\n",
              "    <tr>\n",
              "      <th>isFraud</th>\n",
              "      <td>6362620.0</td>\n",
              "      <td>0.00</td>\n",
              "      <td>0.04</td>\n",
              "      <td>0.0</td>\n",
              "      <td>0.00</td>\n",
              "      <td>0.00</td>\n",
              "      <td>0.00</td>\n",
              "      <td>1.000000e+00</td>\n",
              "    </tr>\n",
              "    <tr>\n",
              "      <th>isFlaggedFraud</th>\n",
              "      <td>6362620.0</td>\n",
              "      <td>0.00</td>\n",
              "      <td>0.00</td>\n",
              "      <td>0.0</td>\n",
              "      <td>0.00</td>\n",
              "      <td>0.00</td>\n",
              "      <td>0.00</td>\n",
              "      <td>1.000000e+00</td>\n",
              "    </tr>\n",
              "  </tbody>\n",
              "</table>\n",
              "</div>"
            ],
            "text/plain": [
              "                    count        mean         std  min       25%        50%  \\\n",
              "step            6362620.0      243.40      142.33  1.0    156.00     239.00   \n",
              "amount          6362620.0   179861.90   603858.23  0.0  13389.57   74871.94   \n",
              "oldbalanceOrg   6362620.0   833883.10  2888242.67  0.0      0.00   14208.00   \n",
              "newbalanceOrig  6362620.0   855113.67  2924048.50  0.0      0.00       0.00   \n",
              "oldbalanceDest  6362620.0  1100701.67  3399180.11  0.0      0.00  132705.66   \n",
              "newbalanceDest  6362620.0  1224996.40  3674128.94  0.0      0.00  214661.44   \n",
              "isFraud         6362620.0        0.00        0.04  0.0      0.00       0.00   \n",
              "isFlaggedFraud  6362620.0        0.00        0.00  0.0      0.00       0.00   \n",
              "\n",
              "                       75%           max  \n",
              "step                335.00  7.430000e+02  \n",
              "amount           208721.48  9.244552e+07  \n",
              "oldbalanceOrg    107315.18  5.958504e+07  \n",
              "newbalanceOrig   144258.41  4.958504e+07  \n",
              "oldbalanceDest   943036.71  3.560159e+08  \n",
              "newbalanceDest  1111909.25  3.561793e+08  \n",
              "isFraud               0.00  1.000000e+00  \n",
              "isFlaggedFraud        0.00  1.000000e+00  "
            ]
          },
          "execution_count": 14,
          "metadata": {},
          "output_type": "execute_result"
        }
      ],
      "source": [
        "# Descriptive statistics of the data\n",
        "\n",
        "df.describe().round(2).T"
      ]
    },
    {
      "cell_type": "markdown",
      "id": "d1fd21e6",
      "metadata": {
        "id": "d1fd21e6"
      },
      "source": [
        "From the result of descriptive analysis,it was discovered that the total number of transactions that took place was 6362620.00, the average amount involved in any transaction was 179861.90, the minimum amount was 0.00, while the maximum amount was 92445516.64. The result further shows the average balance in the origin account before the transaction occured was 833883.10, the minimum balance was 0.00 while the maximum was 59585040.37, the average account balance in the origin account after the occurence of transaction was 855113.67, the minimum balance was 0.00, while the maximum was 144258.41. Conversely, the result shows that the average balance in the destination account before any transactions was 1.100702e+06, the minimum was 0.000000e+00, while the maximum was 3.560159e+08, the average balance in the destination account after transaction was 1.224996e+06, the minimum  balance was 0.000000e+00, while the maximum was 3.561793e+08."
      ]
    },
    {
      "cell_type": "markdown",
      "id": "821d71dd",
      "metadata": {
        "id": "821d71dd"
      },
      "source": [
        "# Description of target variabe"
      ]
    },
    {
      "cell_type": "code",
      "execution_count": null,
      "id": "72d4c0e8",
      "metadata": {
        "id": "72d4c0e8",
        "outputId": "14e9a4f4-b3bf-4981-cee7-2327fe4848c9"
      },
      "outputs": [
        {
          "data": {
            "text/plain": [
              "isFraud\n",
              "0    6354407\n",
              "1       8213\n",
              "Name: count, dtype: int64"
            ]
          },
          "execution_count": 49,
          "metadata": {},
          "output_type": "execute_result"
        }
      ],
      "source": [
        "# Ckecking the value caount for fraud and non-fraud transactions\n",
        "\n",
        "df.isFraud.value_counts()"
      ]
    },
    {
      "cell_type": "markdown",
      "id": "d110aaae",
      "metadata": {
        "id": "d110aaae"
      },
      "source": [
        "# Data Transformation & Correlation Analysis"
      ]
    },
    {
      "cell_type": "code",
      "execution_count": null,
      "id": "422b40e4",
      "metadata": {
        "id": "422b40e4"
      },
      "outputs": [],
      "source": [
        "# Representing the transaction types with numbers\n",
        "\n",
        "df.replace(to_replace=['PAYMENT','TRANSFER','CASH_OUT', 'DEBIT','CASH_IN'],value=[2,4,1,5,3],inplace=True)"
      ]
    },
    {
      "cell_type": "code",
      "execution_count": null,
      "id": "4393071c",
      "metadata": {
        "id": "4393071c",
        "outputId": "457f10b9-70d5-41e7-a0bd-6c592f27cbf5"
      },
      "outputs": [
        {
          "data": {
            "text/html": [
              "<div>\n",
              "<style scoped>\n",
              "    .dataframe tbody tr th:only-of-type {\n",
              "        vertical-align: middle;\n",
              "    }\n",
              "\n",
              "    .dataframe tbody tr th {\n",
              "        vertical-align: top;\n",
              "    }\n",
              "\n",
              "    .dataframe thead th {\n",
              "        text-align: right;\n",
              "    }\n",
              "</style>\n",
              "<table border=\"1\" class=\"dataframe\">\n",
              "  <thead>\n",
              "    <tr style=\"text-align: right;\">\n",
              "      <th></th>\n",
              "      <th>step</th>\n",
              "      <th>type</th>\n",
              "      <th>amount</th>\n",
              "      <th>nameOrig</th>\n",
              "      <th>oldbalanceOrg</th>\n",
              "      <th>newbalanceOrig</th>\n",
              "      <th>nameDest</th>\n",
              "      <th>oldbalanceDest</th>\n",
              "      <th>newbalanceDest</th>\n",
              "      <th>isFraud</th>\n",
              "      <th>isFlaggedFraud</th>\n",
              "    </tr>\n",
              "  </thead>\n",
              "  <tbody>\n",
              "    <tr>\n",
              "      <th>0</th>\n",
              "      <td>1</td>\n",
              "      <td>2</td>\n",
              "      <td>9839.64</td>\n",
              "      <td>C1231006815</td>\n",
              "      <td>170136.00</td>\n",
              "      <td>160296.36</td>\n",
              "      <td>M1979787155</td>\n",
              "      <td>0.00</td>\n",
              "      <td>0.00</td>\n",
              "      <td>0</td>\n",
              "      <td>0</td>\n",
              "    </tr>\n",
              "    <tr>\n",
              "      <th>1</th>\n",
              "      <td>1</td>\n",
              "      <td>2</td>\n",
              "      <td>1864.28</td>\n",
              "      <td>C1666544295</td>\n",
              "      <td>21249.00</td>\n",
              "      <td>19384.72</td>\n",
              "      <td>M2044282225</td>\n",
              "      <td>0.00</td>\n",
              "      <td>0.00</td>\n",
              "      <td>0</td>\n",
              "      <td>0</td>\n",
              "    </tr>\n",
              "    <tr>\n",
              "      <th>2</th>\n",
              "      <td>1</td>\n",
              "      <td>4</td>\n",
              "      <td>181.00</td>\n",
              "      <td>C1305486145</td>\n",
              "      <td>181.00</td>\n",
              "      <td>0.00</td>\n",
              "      <td>C553264065</td>\n",
              "      <td>0.00</td>\n",
              "      <td>0.00</td>\n",
              "      <td>1</td>\n",
              "      <td>0</td>\n",
              "    </tr>\n",
              "    <tr>\n",
              "      <th>3</th>\n",
              "      <td>1</td>\n",
              "      <td>1</td>\n",
              "      <td>181.00</td>\n",
              "      <td>C840083671</td>\n",
              "      <td>181.00</td>\n",
              "      <td>0.00</td>\n",
              "      <td>C38997010</td>\n",
              "      <td>21182.00</td>\n",
              "      <td>0.00</td>\n",
              "      <td>1</td>\n",
              "      <td>0</td>\n",
              "    </tr>\n",
              "    <tr>\n",
              "      <th>4</th>\n",
              "      <td>1</td>\n",
              "      <td>2</td>\n",
              "      <td>11668.14</td>\n",
              "      <td>C2048537720</td>\n",
              "      <td>41554.00</td>\n",
              "      <td>29885.86</td>\n",
              "      <td>M1230701703</td>\n",
              "      <td>0.00</td>\n",
              "      <td>0.00</td>\n",
              "      <td>0</td>\n",
              "      <td>0</td>\n",
              "    </tr>\n",
              "    <tr>\n",
              "      <th>...</th>\n",
              "      <td>...</td>\n",
              "      <td>...</td>\n",
              "      <td>...</td>\n",
              "      <td>...</td>\n",
              "      <td>...</td>\n",
              "      <td>...</td>\n",
              "      <td>...</td>\n",
              "      <td>...</td>\n",
              "      <td>...</td>\n",
              "      <td>...</td>\n",
              "      <td>...</td>\n",
              "    </tr>\n",
              "    <tr>\n",
              "      <th>6362615</th>\n",
              "      <td>743</td>\n",
              "      <td>1</td>\n",
              "      <td>339682.13</td>\n",
              "      <td>C786484425</td>\n",
              "      <td>339682.13</td>\n",
              "      <td>0.00</td>\n",
              "      <td>C776919290</td>\n",
              "      <td>0.00</td>\n",
              "      <td>339682.13</td>\n",
              "      <td>1</td>\n",
              "      <td>0</td>\n",
              "    </tr>\n",
              "    <tr>\n",
              "      <th>6362616</th>\n",
              "      <td>743</td>\n",
              "      <td>4</td>\n",
              "      <td>6311409.28</td>\n",
              "      <td>C1529008245</td>\n",
              "      <td>6311409.28</td>\n",
              "      <td>0.00</td>\n",
              "      <td>C1881841831</td>\n",
              "      <td>0.00</td>\n",
              "      <td>0.00</td>\n",
              "      <td>1</td>\n",
              "      <td>0</td>\n",
              "    </tr>\n",
              "    <tr>\n",
              "      <th>6362617</th>\n",
              "      <td>743</td>\n",
              "      <td>1</td>\n",
              "      <td>6311409.28</td>\n",
              "      <td>C1162922333</td>\n",
              "      <td>6311409.28</td>\n",
              "      <td>0.00</td>\n",
              "      <td>C1365125890</td>\n",
              "      <td>68488.84</td>\n",
              "      <td>6379898.11</td>\n",
              "      <td>1</td>\n",
              "      <td>0</td>\n",
              "    </tr>\n",
              "    <tr>\n",
              "      <th>6362618</th>\n",
              "      <td>743</td>\n",
              "      <td>4</td>\n",
              "      <td>850002.52</td>\n",
              "      <td>C1685995037</td>\n",
              "      <td>850002.52</td>\n",
              "      <td>0.00</td>\n",
              "      <td>C2080388513</td>\n",
              "      <td>0.00</td>\n",
              "      <td>0.00</td>\n",
              "      <td>1</td>\n",
              "      <td>0</td>\n",
              "    </tr>\n",
              "    <tr>\n",
              "      <th>6362619</th>\n",
              "      <td>743</td>\n",
              "      <td>1</td>\n",
              "      <td>850002.52</td>\n",
              "      <td>C1280323807</td>\n",
              "      <td>850002.52</td>\n",
              "      <td>0.00</td>\n",
              "      <td>C873221189</td>\n",
              "      <td>6510099.11</td>\n",
              "      <td>7360101.63</td>\n",
              "      <td>1</td>\n",
              "      <td>0</td>\n",
              "    </tr>\n",
              "  </tbody>\n",
              "</table>\n",
              "<p>6362620 rows × 11 columns</p>\n",
              "</div>"
            ],
            "text/plain": [
              "         step  type      amount     nameOrig  oldbalanceOrg  newbalanceOrig  \\\n",
              "0           1     2     9839.64  C1231006815      170136.00       160296.36   \n",
              "1           1     2     1864.28  C1666544295       21249.00        19384.72   \n",
              "2           1     4      181.00  C1305486145         181.00            0.00   \n",
              "3           1     1      181.00   C840083671         181.00            0.00   \n",
              "4           1     2    11668.14  C2048537720       41554.00        29885.86   \n",
              "...       ...   ...         ...          ...            ...             ...   \n",
              "6362615   743     1   339682.13   C786484425      339682.13            0.00   \n",
              "6362616   743     4  6311409.28  C1529008245     6311409.28            0.00   \n",
              "6362617   743     1  6311409.28  C1162922333     6311409.28            0.00   \n",
              "6362618   743     4   850002.52  C1685995037      850002.52            0.00   \n",
              "6362619   743     1   850002.52  C1280323807      850002.52            0.00   \n",
              "\n",
              "            nameDest  oldbalanceDest  newbalanceDest  isFraud  isFlaggedFraud  \n",
              "0        M1979787155            0.00            0.00        0               0  \n",
              "1        M2044282225            0.00            0.00        0               0  \n",
              "2         C553264065            0.00            0.00        1               0  \n",
              "3          C38997010        21182.00            0.00        1               0  \n",
              "4        M1230701703            0.00            0.00        0               0  \n",
              "...              ...             ...             ...      ...             ...  \n",
              "6362615   C776919290            0.00       339682.13        1               0  \n",
              "6362616  C1881841831            0.00            0.00        1               0  \n",
              "6362617  C1365125890        68488.84      6379898.11        1               0  \n",
              "6362618  C2080388513            0.00            0.00        1               0  \n",
              "6362619   C873221189      6510099.11      7360101.63        1               0  \n",
              "\n",
              "[6362620 rows x 11 columns]"
            ]
          },
          "execution_count": 51,
          "metadata": {},
          "output_type": "execute_result"
        }
      ],
      "source": [
        "df"
      ]
    },
    {
      "cell_type": "code",
      "execution_count": null,
      "id": "214bf714",
      "metadata": {
        "id": "214bf714",
        "outputId": "147a3c6b-6bbc-4f28-a9ac-39cef4786f2c"
      },
      "outputs": [
        {
          "data": {
            "text/plain": [
              "isFraud\n",
              "0    6354407\n",
              "1       8213\n",
              "Name: count, dtype: int64"
            ]
          },
          "execution_count": 52,
          "metadata": {},
          "output_type": "execute_result"
        }
      ],
      "source": [
        "df.isFraud.value_counts()"
      ]
    },
    {
      "cell_type": "code",
      "execution_count": null,
      "id": "cfdee839",
      "metadata": {
        "id": "cfdee839",
        "outputId": "7e2005a1-bd59-4573-d9be-94d9350d1d38"
      },
      "outputs": [
        {
          "data": {
            "text/html": [
              "<div>\n",
              "<style scoped>\n",
              "    .dataframe tbody tr th:only-of-type {\n",
              "        vertical-align: middle;\n",
              "    }\n",
              "\n",
              "    .dataframe tbody tr th {\n",
              "        vertical-align: top;\n",
              "    }\n",
              "\n",
              "    .dataframe thead th {\n",
              "        text-align: right;\n",
              "    }\n",
              "</style>\n",
              "<table border=\"1\" class=\"dataframe\">\n",
              "  <thead>\n",
              "    <tr style=\"text-align: right;\">\n",
              "      <th></th>\n",
              "      <th>step</th>\n",
              "      <th>type</th>\n",
              "      <th>amount</th>\n",
              "      <th>oldbalanceOrg</th>\n",
              "      <th>newbalanceOrig</th>\n",
              "      <th>oldbalanceDest</th>\n",
              "      <th>newbalanceDest</th>\n",
              "      <th>isFraud</th>\n",
              "      <th>isFlaggedFraud</th>\n",
              "    </tr>\n",
              "  </thead>\n",
              "  <tbody>\n",
              "    <tr>\n",
              "      <th>step</th>\n",
              "      <td>1.000000</td>\n",
              "      <td>0.012627</td>\n",
              "      <td>0.022373</td>\n",
              "      <td>-0.010058</td>\n",
              "      <td>-0.010299</td>\n",
              "      <td>0.027665</td>\n",
              "      <td>0.025888</td>\n",
              "      <td>0.031578</td>\n",
              "      <td>0.003277</td>\n",
              "    </tr>\n",
              "    <tr>\n",
              "      <th>type</th>\n",
              "      <td>0.012627</td>\n",
              "      <td>1.000000</td>\n",
              "      <td>0.198987</td>\n",
              "      <td>0.260418</td>\n",
              "      <td>0.270669</td>\n",
              "      <td>0.066255</td>\n",
              "      <td>0.079111</td>\n",
              "      <td>0.016171</td>\n",
              "      <td>0.003144</td>\n",
              "    </tr>\n",
              "    <tr>\n",
              "      <th>amount</th>\n",
              "      <td>0.022373</td>\n",
              "      <td>0.198987</td>\n",
              "      <td>1.000000</td>\n",
              "      <td>-0.002762</td>\n",
              "      <td>-0.007861</td>\n",
              "      <td>0.294137</td>\n",
              "      <td>0.459304</td>\n",
              "      <td>0.076688</td>\n",
              "      <td>0.012295</td>\n",
              "    </tr>\n",
              "    <tr>\n",
              "      <th>oldbalanceOrg</th>\n",
              "      <td>-0.010058</td>\n",
              "      <td>0.260418</td>\n",
              "      <td>-0.002762</td>\n",
              "      <td>1.000000</td>\n",
              "      <td>0.998803</td>\n",
              "      <td>0.066243</td>\n",
              "      <td>0.042029</td>\n",
              "      <td>0.010154</td>\n",
              "      <td>0.003835</td>\n",
              "    </tr>\n",
              "    <tr>\n",
              "      <th>newbalanceOrig</th>\n",
              "      <td>-0.010299</td>\n",
              "      <td>0.270669</td>\n",
              "      <td>-0.007861</td>\n",
              "      <td>0.998803</td>\n",
              "      <td>1.000000</td>\n",
              "      <td>0.067812</td>\n",
              "      <td>0.041837</td>\n",
              "      <td>-0.008148</td>\n",
              "      <td>0.003776</td>\n",
              "    </tr>\n",
              "    <tr>\n",
              "      <th>oldbalanceDest</th>\n",
              "      <td>0.027665</td>\n",
              "      <td>0.066255</td>\n",
              "      <td>0.294137</td>\n",
              "      <td>0.066243</td>\n",
              "      <td>0.067812</td>\n",
              "      <td>1.000000</td>\n",
              "      <td>0.976569</td>\n",
              "      <td>-0.005885</td>\n",
              "      <td>-0.000513</td>\n",
              "    </tr>\n",
              "    <tr>\n",
              "      <th>newbalanceDest</th>\n",
              "      <td>0.025888</td>\n",
              "      <td>0.079111</td>\n",
              "      <td>0.459304</td>\n",
              "      <td>0.042029</td>\n",
              "      <td>0.041837</td>\n",
              "      <td>0.976569</td>\n",
              "      <td>1.000000</td>\n",
              "      <td>0.000535</td>\n",
              "      <td>-0.000529</td>\n",
              "    </tr>\n",
              "    <tr>\n",
              "      <th>isFraud</th>\n",
              "      <td>0.031578</td>\n",
              "      <td>0.016171</td>\n",
              "      <td>0.076688</td>\n",
              "      <td>0.010154</td>\n",
              "      <td>-0.008148</td>\n",
              "      <td>-0.005885</td>\n",
              "      <td>0.000535</td>\n",
              "      <td>1.000000</td>\n",
              "      <td>0.044109</td>\n",
              "    </tr>\n",
              "    <tr>\n",
              "      <th>isFlaggedFraud</th>\n",
              "      <td>0.003277</td>\n",
              "      <td>0.003144</td>\n",
              "      <td>0.012295</td>\n",
              "      <td>0.003835</td>\n",
              "      <td>0.003776</td>\n",
              "      <td>-0.000513</td>\n",
              "      <td>-0.000529</td>\n",
              "      <td>0.044109</td>\n",
              "      <td>1.000000</td>\n",
              "    </tr>\n",
              "  </tbody>\n",
              "</table>\n",
              "</div>"
            ],
            "text/plain": [
              "                    step      type    amount  oldbalanceOrg  newbalanceOrig  \\\n",
              "step            1.000000  0.012627  0.022373      -0.010058       -0.010299   \n",
              "type            0.012627  1.000000  0.198987       0.260418        0.270669   \n",
              "amount          0.022373  0.198987  1.000000      -0.002762       -0.007861   \n",
              "oldbalanceOrg  -0.010058  0.260418 -0.002762       1.000000        0.998803   \n",
              "newbalanceOrig -0.010299  0.270669 -0.007861       0.998803        1.000000   \n",
              "oldbalanceDest  0.027665  0.066255  0.294137       0.066243        0.067812   \n",
              "newbalanceDest  0.025888  0.079111  0.459304       0.042029        0.041837   \n",
              "isFraud         0.031578  0.016171  0.076688       0.010154       -0.008148   \n",
              "isFlaggedFraud  0.003277  0.003144  0.012295       0.003835        0.003776   \n",
              "\n",
              "                oldbalanceDest  newbalanceDest   isFraud  isFlaggedFraud  \n",
              "step                  0.027665        0.025888  0.031578        0.003277  \n",
              "type                  0.066255        0.079111  0.016171        0.003144  \n",
              "amount                0.294137        0.459304  0.076688        0.012295  \n",
              "oldbalanceOrg         0.066243        0.042029  0.010154        0.003835  \n",
              "newbalanceOrig        0.067812        0.041837 -0.008148        0.003776  \n",
              "oldbalanceDest        1.000000        0.976569 -0.005885       -0.000513  \n",
              "newbalanceDest        0.976569        1.000000  0.000535       -0.000529  \n",
              "isFraud              -0.005885        0.000535  1.000000        0.044109  \n",
              "isFlaggedFraud       -0.000513       -0.000529  0.044109        1.000000  "
            ]
          },
          "execution_count": 54,
          "metadata": {},
          "output_type": "execute_result"
        }
      ],
      "source": [
        "# Checking for inter-features correlation to identify features that are highly correlated with one another\n",
        "\n",
        "df_corr = df.drop([\"nameDest\", \"nameOrig\"], axis = 1)\n",
        "\n",
        "df_corr.corr()"
      ]
    },
    {
      "cell_type": "code",
      "execution_count": null,
      "id": "e4db3455",
      "metadata": {
        "scrolled": true,
        "id": "e4db3455",
        "outputId": "3dea7662-ca13-49df-f3f1-475a786e5336"
      },
      "outputs": [
        {
          "data": {
            "text/plain": [
              "<AxesSubplot:>"
            ]
          },
          "execution_count": 55,
          "metadata": {},
          "output_type": "execute_result"
        },
        {
          "data": {
            "image/png": "[encoded data removed]",
            "text/plain": [
              "<Figure size 432x288 with 2 Axes>"
            ]
          },
          "metadata": {
            "needs_background": "light"
          },
          "output_type": "display_data"
        }
      ],
      "source": [
        "sns.heatmap(df_corr.corr().round(3), annot= True, cmap='coolwarm')"
      ]
    },
    {
      "cell_type": "markdown",
      "id": "b40696b0",
      "metadata": {
        "id": "b40696b0"
      },
      "source": [
        "From the result of corrlation analysis, it was discovered that all the variables involved in this analysis possess some level of correlation or relationship with fraud possibility(positive or negative); amount, oldbalanceorig, newbalancedest had a positive correlation with fraud possibility while newbalanceorig, oldbalancedest has a negative correlation with fraud possibility."
      ]
    },
    {
      "cell_type": "code",
      "execution_count": null,
      "id": "53a6918d",
      "metadata": {
        "id": "53a6918d"
      },
      "outputs": [],
      "source": [
        "# Creating a dictionary for mapping integers to the strings in the target variable\n",
        "fraud_mapping = {0: 'No fraud', 1: 'Fraud'}\n",
        "\n",
        "# Applying the mapping to 'isFraud' (target) column\n",
        "df['isFraud'] = df['isFraud'].map(fraud_mapping)\n"
      ]
    },
    {
      "cell_type": "code",
      "execution_count": null,
      "id": "53538942",
      "metadata": {
        "id": "53538942",
        "outputId": "356840c2-ed49-4668-9061-441ce76b91f8"
      },
      "outputs": [
        {
          "data": {
            "text/plain": [
              "array(['No fraud', 'Fraud'], dtype=object)"
            ]
          },
          "execution_count": 77,
          "metadata": {},
          "output_type": "execute_result"
        }
      ],
      "source": [
        "# Checking the unique values in the target variable to ensure that all in mapped correctly\n",
        "\n",
        "df.isFraud.unique()"
      ]
    },
    {
      "cell_type": "markdown",
      "id": "ccc24228",
      "metadata": {
        "id": "ccc24228"
      },
      "source": [
        "## Handling the imbalance in the dataset, to generate a balanced dataset"
      ]
    },
    {
      "cell_type": "code",
      "execution_count": null,
      "id": "e476b12a",
      "metadata": {
        "id": "e476b12a",
        "outputId": "867b6f06-bd38-40fb-f98f-368a0ca3ca2c"
      },
      "outputs": [
        {
          "name": "stdout",
          "output_type": "stream",
          "text": [
            "Original Class Distribution:\n",
            "isFraud\n",
            "No fraud    6354407\n",
            "Fraud          8213\n",
            "Name: count, dtype: int64\n",
            "Before Resampling:\n",
            "Fraud cases: 8213\n",
            "Non-fraud cases: 6354407\n",
            "After Resampling:\n",
            "Fraud cases: 8213\n",
            "Non-fraud cases: 8213\n",
            "   step  type      amount     nameOrig  oldbalanceOrg  newbalanceOrig  \\\n",
            "0   397     3    76550.74   C658247527     1096252.93      1172803.66   \n",
            "1   251     2    12617.11  C1812418129      339181.87       326564.76   \n",
            "2    98     1     8055.06  C1544350298        8055.06            0.00   \n",
            "3   550     4   342309.91   C662184778      342309.91            0.00   \n",
            "4   586     1  2581549.92   C648614053     2581549.92            0.00   \n",
            "\n",
            "      nameDest  oldbalanceDest  newbalanceDest   isFraud  isFlaggedFraud  \n",
            "0   C492670573      2208784.02      2132233.28  No fraud               0  \n",
            "1  M1924423059            0.00            0.00  No fraud               0  \n",
            "2   C912405348            0.00         8055.06     Fraud               0  \n",
            "3  C1740503020            0.00            0.00     Fraud               0  \n",
            "4   C213455810            0.00      2581549.92     Fraud               0  \n"
          ]
        }
      ],
      "source": [
        "# Printing the counts of fraud and non-fraud cases in the original dataset to show the imbalance\n",
        "print(\"Original Class Distribution:\")\n",
        "print(df['isFraud'].value_counts())\n",
        "\n",
        "# Separating fraud and non-fraud cases\n",
        "fraud_cases = df[df['isFraud'] == 'Fraud']\n",
        "non_fraud_cases = df[df['isFraud'] == 'No fraud']\n",
        "\n",
        "# Printing the counts of fraud and non-fraud cases before resampling\n",
        "print(\"Before Resampling:\")\n",
        "print(\"Fraud cases:\", len(fraud_cases))\n",
        "print(\"Non-fraud cases:\", len(non_fraud_cases))\n",
        "\n",
        "# Randomly sampling non-fraud cases to balance the dataset\n",
        "non_fraud_sampled = non_fraud_cases.sample(n=len(fraud_cases), random_state=42)\n",
        "\n",
        "# Combining the sampled non-fraud cases with fraud cases to create the balanced dataset\n",
        "balanced_df = pd.concat([fraud_cases, non_fraud_sampled])\n",
        "\n",
        "# Shuffling the entire dataset to mix the order of samples\n",
        "balanced_df = balanced_df.sample(frac=1, random_state=42).reset_index(drop=True)\n",
        "\n",
        "# Printing the counts of fraud and non-fraud cases after resampling\n",
        "print(\"After Resampling:\")\n",
        "print(\"Fraud cases:\", len(balanced_df[balanced_df['isFraud'] == 'Fraud']))\n",
        "print(\"Non-fraud cases:\", len(balanced_df[balanced_df['isFraud'] == 'No fraud']))\n",
        "\n",
        "# Printing the first few entries in the DataFrame to check\n",
        "print(balanced_df.head())\n",
        "\n",
        "# Overwrite the entire dataset with the balanced values\n",
        "df_resampled = balanced_df.copy()"
      ]
    },
    {
      "cell_type": "markdown",
      "id": "fc9dc113",
      "metadata": {
        "id": "fc9dc113"
      },
      "source": [
        "# Description of target variable After Resampling"
      ]
    },
    {
      "cell_type": "code",
      "execution_count": null,
      "id": "7dd80024",
      "metadata": {
        "id": "7dd80024",
        "outputId": "b09cfa92-a57d-413d-9f60-2a3d906c8edb"
      },
      "outputs": [
        {
          "data": {
            "text/plain": [
              "isFraud\n",
              "No fraud    8213\n",
              "Fraud       8213\n",
              "Name: count, dtype: int64"
            ]
          },
          "execution_count": 79,
          "metadata": {},
          "output_type": "execute_result"
        }
      ],
      "source": [
        "# Checking the value counts of the target variable after balancing and resampling\n",
        "\n",
        "df_resampled.isFraud.value_counts()"
      ]
    },
    {
      "cell_type": "code",
      "execution_count": null,
      "id": "a0684ba3",
      "metadata": {
        "id": "a0684ba3",
        "outputId": "128e342b-f2bc-4a29-b350-4af639978f28"
      },
      "outputs": [
        {
          "data": {
            "text/plain": [
              "0"
            ]
          },
          "execution_count": 80,
          "metadata": {},
          "output_type": "execute_result"
        }
      ],
      "source": [
        "# Checking if there are missing cases in the new balanced dataset\n",
        "\n",
        "df_resampled.isFraud.isna().sum()"
      ]
    },
    {
      "cell_type": "markdown",
      "id": "81035533",
      "metadata": {
        "id": "81035533"
      },
      "source": [
        "# Machine Learning Tasks\n",
        "\n",
        "GaussianNB model was used for the first model while random forest classifier was used for the second model"
      ]
    },
    {
      "cell_type": "code",
      "execution_count": null,
      "id": "55703f95",
      "metadata": {
        "id": "55703f95"
      },
      "outputs": [],
      "source": [
        "# Importing the necessary libraries for the machine learning task\n",
        "\n",
        "from sklearn.model_selection import train_test_split\n",
        "from sklearn.ensemble import RandomForestClassifier\n",
        "from sklearn.metrics import classification_report, confusion_matrix, accuracy_score\n",
        "from sklearn.naive_bayes import GaussianNB"
      ]
    },
    {
      "cell_type": "code",
      "execution_count": null,
      "id": "49e22f0f",
      "metadata": {
        "scrolled": true,
        "id": "49e22f0f"
      },
      "outputs": [],
      "source": [
        "# Dividing the balanced dataset into the features (X) and target (Y) datasets\n",
        "\n",
        "X = df_resampled[['type','amount','oldbalanceOrg','newbalanceOrig','oldbalanceDest','newbalanceDest','isFlaggedFraud']]\n",
        "Y = df_resampled.isFraud"
      ]
    },
    {
      "cell_type": "code",
      "execution_count": null,
      "id": "cde2049e",
      "metadata": {
        "scrolled": true,
        "id": "cde2049e",
        "outputId": "5c3abd72-0b44-4385-8a82-e1a5cada9846"
      },
      "outputs": [
        {
          "data": {
            "text/html": [
              "<div>\n",
              "<style scoped>\n",
              "    .dataframe tbody tr th:only-of-type {\n",
              "        vertical-align: middle;\n",
              "    }\n",
              "\n",
              "    .dataframe tbody tr th {\n",
              "        vertical-align: top;\n",
              "    }\n",
              "\n",
              "    .dataframe thead th {\n",
              "        text-align: right;\n",
              "    }\n",
              "</style>\n",
              "<table border=\"1\" class=\"dataframe\">\n",
              "  <thead>\n",
              "    <tr style=\"text-align: right;\">\n",
              "      <th></th>\n",
              "      <th>type</th>\n",
              "      <th>amount</th>\n",
              "      <th>oldbalanceOrg</th>\n",
              "      <th>newbalanceOrig</th>\n",
              "      <th>oldbalanceDest</th>\n",
              "      <th>newbalanceDest</th>\n",
              "      <th>isFlaggedFraud</th>\n",
              "    </tr>\n",
              "  </thead>\n",
              "  <tbody>\n",
              "    <tr>\n",
              "      <th>0</th>\n",
              "      <td>3</td>\n",
              "      <td>76550.74</td>\n",
              "      <td>1096252.93</td>\n",
              "      <td>1172803.66</td>\n",
              "      <td>2208784.02</td>\n",
              "      <td>2132233.28</td>\n",
              "      <td>0</td>\n",
              "    </tr>\n",
              "    <tr>\n",
              "      <th>1</th>\n",
              "      <td>2</td>\n",
              "      <td>12617.11</td>\n",
              "      <td>339181.87</td>\n",
              "      <td>326564.76</td>\n",
              "      <td>0.00</td>\n",
              "      <td>0.00</td>\n",
              "      <td>0</td>\n",
              "    </tr>\n",
              "    <tr>\n",
              "      <th>2</th>\n",
              "      <td>1</td>\n",
              "      <td>8055.06</td>\n",
              "      <td>8055.06</td>\n",
              "      <td>0.00</td>\n",
              "      <td>0.00</td>\n",
              "      <td>8055.06</td>\n",
              "      <td>0</td>\n",
              "    </tr>\n",
              "    <tr>\n",
              "      <th>3</th>\n",
              "      <td>4</td>\n",
              "      <td>342309.91</td>\n",
              "      <td>342309.91</td>\n",
              "      <td>0.00</td>\n",
              "      <td>0.00</td>\n",
              "      <td>0.00</td>\n",
              "      <td>0</td>\n",
              "    </tr>\n",
              "    <tr>\n",
              "      <th>4</th>\n",
              "      <td>1</td>\n",
              "      <td>2581549.92</td>\n",
              "      <td>2581549.92</td>\n",
              "      <td>0.00</td>\n",
              "      <td>0.00</td>\n",
              "      <td>2581549.92</td>\n",
              "      <td>0</td>\n",
              "    </tr>\n",
              "    <tr>\n",
              "      <th>...</th>\n",
              "      <td>...</td>\n",
              "      <td>...</td>\n",
              "      <td>...</td>\n",
              "      <td>...</td>\n",
              "      <td>...</td>\n",
              "      <td>...</td>\n",
              "      <td>...</td>\n",
              "    </tr>\n",
              "    <tr>\n",
              "      <th>16421</th>\n",
              "      <td>1</td>\n",
              "      <td>542461.74</td>\n",
              "      <td>0.00</td>\n",
              "      <td>0.00</td>\n",
              "      <td>1757516.20</td>\n",
              "      <td>2299977.94</td>\n",
              "      <td>0</td>\n",
              "    </tr>\n",
              "    <tr>\n",
              "      <th>16422</th>\n",
              "      <td>3</td>\n",
              "      <td>2032.93</td>\n",
              "      <td>7625673.00</td>\n",
              "      <td>7627705.93</td>\n",
              "      <td>323961.50</td>\n",
              "      <td>321928.56</td>\n",
              "      <td>0</td>\n",
              "    </tr>\n",
              "    <tr>\n",
              "      <th>16423</th>\n",
              "      <td>1</td>\n",
              "      <td>156220.74</td>\n",
              "      <td>156220.74</td>\n",
              "      <td>0.00</td>\n",
              "      <td>0.00</td>\n",
              "      <td>156220.74</td>\n",
              "      <td>0</td>\n",
              "    </tr>\n",
              "    <tr>\n",
              "      <th>16424</th>\n",
              "      <td>4</td>\n",
              "      <td>1871553.73</td>\n",
              "      <td>1871553.73</td>\n",
              "      <td>0.00</td>\n",
              "      <td>0.00</td>\n",
              "      <td>0.00</td>\n",
              "      <td>0</td>\n",
              "    </tr>\n",
              "    <tr>\n",
              "      <th>16425</th>\n",
              "      <td>3</td>\n",
              "      <td>98932.38</td>\n",
              "      <td>1609496.52</td>\n",
              "      <td>1708428.90</td>\n",
              "      <td>3484293.51</td>\n",
              "      <td>3385361.13</td>\n",
              "      <td>0</td>\n",
              "    </tr>\n",
              "  </tbody>\n",
              "</table>\n",
              "<p>16426 rows × 7 columns</p>\n",
              "</div>"
            ],
            "text/plain": [
              "       type      amount  oldbalanceOrg  newbalanceOrig  oldbalanceDest  \\\n",
              "0         3    76550.74     1096252.93      1172803.66      2208784.02   \n",
              "1         2    12617.11      339181.87       326564.76            0.00   \n",
              "2         1     8055.06        8055.06            0.00            0.00   \n",
              "3         4   342309.91      342309.91            0.00            0.00   \n",
              "4         1  2581549.92     2581549.92            0.00            0.00   \n",
              "...     ...         ...            ...             ...             ...   \n",
              "16421     1   542461.74           0.00            0.00      1757516.20   \n",
              "16422     3     2032.93     7625673.00      7627705.93       323961.50   \n",
              "16423     1   156220.74      156220.74            0.00            0.00   \n",
              "16424     4  1871553.73     1871553.73            0.00            0.00   \n",
              "16425     3    98932.38     1609496.52      1708428.90      3484293.51   \n",
              "\n",
              "       newbalanceDest  isFlaggedFraud  \n",
              "0          2132233.28               0  \n",
              "1                0.00               0  \n",
              "2             8055.06               0  \n",
              "3                0.00               0  \n",
              "4          2581549.92               0  \n",
              "...               ...             ...  \n",
              "16421      2299977.94               0  \n",
              "16422       321928.56               0  \n",
              "16423       156220.74               0  \n",
              "16424            0.00               0  \n",
              "16425      3385361.13               0  \n",
              "\n",
              "[16426 rows x 7 columns]"
            ]
          },
          "execution_count": 83,
          "metadata": {},
          "output_type": "execute_result"
        }
      ],
      "source": [
        "# Printing out X (the predictors)\n",
        "\n",
        "X"
      ]
    },
    {
      "cell_type": "code",
      "execution_count": null,
      "id": "c2c4ef7b",
      "metadata": {
        "scrolled": false,
        "id": "c2c4ef7b",
        "outputId": "f1c223fb-3261-4b96-cb2f-2d1e8c5f49a2"
      },
      "outputs": [
        {
          "data": {
            "text/plain": [
              "0        No fraud\n",
              "1        No fraud\n",
              "2           Fraud\n",
              "3           Fraud\n",
              "4           Fraud\n",
              "           ...   \n",
              "16421    No fraud\n",
              "16422    No fraud\n",
              "16423       Fraud\n",
              "16424       Fraud\n",
              "16425    No fraud\n",
              "Name: isFraud, Length: 16426, dtype: object"
            ]
          },
          "execution_count": 84,
          "metadata": {},
          "output_type": "execute_result"
        }
      ],
      "source": [
        "# Printing out Y (The target variable)\n",
        "\n",
        "Y"
      ]
    },
    {
      "cell_type": "code",
      "execution_count": null,
      "id": "09de77aa",
      "metadata": {
        "id": "09de77aa"
      },
      "outputs": [],
      "source": [
        "# Splitting the X and Y datasets into train and test sets.\n",
        "\n",
        "X_train, X_test, Y_train, Y_test = train_test_split(X, Y, test_size=0.3, random_state=42)"
      ]
    },
    {
      "cell_type": "markdown",
      "id": "2b3263b8",
      "metadata": {
        "id": "2b3263b8"
      },
      "source": [
        "### GaussianNB model on Raw data\n",
        "\n",
        "Training the Gaussinam Model with the raw data and checking the accuracy on the train and test datasets."
      ]
    },
    {
      "cell_type": "code",
      "execution_count": null,
      "id": "f775410d",
      "metadata": {
        "id": "f775410d"
      },
      "outputs": [],
      "source": [
        "# Training the Gaussian model with the raw data\n",
        "\n",
        "Raw_model = GaussianNB().fit(X_train,Y_train)"
      ]
    },
    {
      "cell_type": "code",
      "execution_count": null,
      "id": "e0b3d1b7",
      "metadata": {
        "id": "e0b3d1b7"
      },
      "outputs": [],
      "source": [
        "# Predicting the training target variable data using the gaussian model\n",
        "\n",
        "train_ypred_raw = Raw_model.predict(X_train)"
      ]
    },
    {
      "cell_type": "code",
      "execution_count": null,
      "id": "597d3c37",
      "metadata": {
        "id": "597d3c37"
      },
      "outputs": [],
      "source": [
        "# Predicting the test target variable data using the gaussian model\n",
        "\n",
        "y_pred_raw = Raw_model.predict(X_test)"
      ]
    },
    {
      "cell_type": "code",
      "execution_count": null,
      "id": "53a54544",
      "metadata": {
        "id": "53a54544",
        "outputId": "f4dc4c4c-de26-49a4-f601-bf30857890a3"
      },
      "outputs": [
        {
          "name": "stdout",
          "output_type": "stream",
          "text": [
            "0.6568968516263698\n",
            "              precision    recall  f1-score   support\n",
            "\n",
            "       Fraud       0.94      0.33      0.49      5729\n",
            "    No fraud       0.60      0.98      0.74      5769\n",
            "\n",
            "    accuracy                           0.66     11498\n",
            "   macro avg       0.77      0.66      0.62     11498\n",
            "weighted avg       0.77      0.66      0.62     11498\n",
            "\n",
            "[[1905 3824]\n",
            " [ 121 5648]]\n"
          ]
        }
      ],
      "source": [
        "# Perfomance of model  on Training Dataset\n",
        "\n",
        "print(accuracy_score(Y_train,train_ypred_raw))\n",
        "print(classification_report(Y_train,train_ypred_raw))\n",
        "print(confusion_matrix(Y_train,train_ypred_raw))"
      ]
    },
    {
      "cell_type": "code",
      "execution_count": null,
      "id": "4331c00a",
      "metadata": {
        "scrolled": false,
        "id": "4331c00a",
        "outputId": "3d9877db-629f-46a9-a726-5fe737b19e70"
      },
      "outputs": [
        {
          "name": "stdout",
          "output_type": "stream",
          "text": [
            "0.648336038961039\n",
            "              precision    recall  f1-score   support\n",
            "\n",
            "       Fraud       0.96      0.32      0.48      2484\n",
            "    No fraud       0.59      0.99      0.74      2444\n",
            "\n",
            "    accuracy                           0.65      4928\n",
            "   macro avg       0.77      0.65      0.61      4928\n",
            "weighted avg       0.77      0.65      0.60      4928\n",
            "\n",
            "[[ 786 1698]\n",
            " [  35 2409]]\n"
          ]
        }
      ],
      "source": [
        "# Perfomance of model  on Test Dataset\n",
        "\n",
        "print(accuracy_score(Y_test,y_pred_raw))\n",
        "print(classification_report(Y_test,y_pred_raw))\n",
        "print(confusion_matrix(Y_test,y_pred_raw))"
      ]
    },
    {
      "cell_type": "markdown",
      "id": "f8f990f0",
      "metadata": {
        "id": "f8f990f0"
      },
      "source": [
        "## Improving the Gaussian model by engineering new features\n",
        "\n",
        "Generating three new features:\n",
        "1. amount_relative_to_balance_orig\n",
        "2. newbalanceDest_rank\n",
        "3. average_transaction_amount_dest"
      ]
    },
    {
      "cell_type": "code",
      "execution_count": null,
      "id": "9500b659",
      "metadata": {
        "scrolled": false,
        "id": "9500b659"
      },
      "outputs": [],
      "source": [
        "# Features engineering\n",
        "\n",
        "df_resampled['amount_relative_to_balance_orig'] = df_resampled['amount'] / (df_resampled['oldbalanceOrg'] + 0.1)\n",
        "df_resampled['newbalanceDest_rank'] = df_resampled.groupby('nameDest')['newbalanceDest'].rank()\n",
        "df_resampled['average_transaction_amount_dest']= df_resampled.groupby('nameDest')['amount'].transform('mean')"
      ]
    },
    {
      "cell_type": "code",
      "execution_count": null,
      "id": "362d0589",
      "metadata": {
        "scrolled": true,
        "id": "362d0589",
        "outputId": "7614752f-b64e-4256-e061-c54be43fc1e3"
      },
      "outputs": [
        {
          "data": {
            "text/html": [
              "<div>\n",
              "<style scoped>\n",
              "    .dataframe tbody tr th:only-of-type {\n",
              "        vertical-align: middle;\n",
              "    }\n",
              "\n",
              "    .dataframe tbody tr th {\n",
              "        vertical-align: top;\n",
              "    }\n",
              "\n",
              "    .dataframe thead th {\n",
              "        text-align: right;\n",
              "    }\n",
              "</style>\n",
              "<table border=\"1\" class=\"dataframe\">\n",
              "  <thead>\n",
              "    <tr style=\"text-align: right;\">\n",
              "      <th></th>\n",
              "      <th>step</th>\n",
              "      <th>type</th>\n",
              "      <th>amount</th>\n",
              "      <th>nameOrig</th>\n",
              "      <th>oldbalanceOrg</th>\n",
              "      <th>newbalanceOrig</th>\n",
              "      <th>nameDest</th>\n",
              "      <th>oldbalanceDest</th>\n",
              "      <th>newbalanceDest</th>\n",
              "      <th>isFraud</th>\n",
              "      <th>isFlaggedFraud</th>\n",
              "      <th>amount_relative_to_balance_orig</th>\n",
              "      <th>newbalanceDest_rank</th>\n",
              "      <th>average_transaction_amount_dest</th>\n",
              "    </tr>\n",
              "  </thead>\n",
              "  <tbody>\n",
              "    <tr>\n",
              "      <th>0</th>\n",
              "      <td>397</td>\n",
              "      <td>3</td>\n",
              "      <td>76550.74</td>\n",
              "      <td>C658247527</td>\n",
              "      <td>1096252.93</td>\n",
              "      <td>1172803.66</td>\n",
              "      <td>C492670573</td>\n",
              "      <td>2208784.02</td>\n",
              "      <td>2132233.28</td>\n",
              "      <td>No fraud</td>\n",
              "      <td>0</td>\n",
              "      <td>6.982944e-02</td>\n",
              "      <td>1.0</td>\n",
              "      <td>76550.74</td>\n",
              "    </tr>\n",
              "    <tr>\n",
              "      <th>1</th>\n",
              "      <td>251</td>\n",
              "      <td>2</td>\n",
              "      <td>12617.11</td>\n",
              "      <td>C1812418129</td>\n",
              "      <td>339181.87</td>\n",
              "      <td>326564.76</td>\n",
              "      <td>M1924423059</td>\n",
              "      <td>0.00</td>\n",
              "      <td>0.00</td>\n",
              "      <td>No fraud</td>\n",
              "      <td>0</td>\n",
              "      <td>3.719865e-02</td>\n",
              "      <td>1.0</td>\n",
              "      <td>12617.11</td>\n",
              "    </tr>\n",
              "    <tr>\n",
              "      <th>2</th>\n",
              "      <td>98</td>\n",
              "      <td>1</td>\n",
              "      <td>8055.06</td>\n",
              "      <td>C1544350298</td>\n",
              "      <td>8055.06</td>\n",
              "      <td>0.00</td>\n",
              "      <td>C912405348</td>\n",
              "      <td>0.00</td>\n",
              "      <td>8055.06</td>\n",
              "      <td>Fraud</td>\n",
              "      <td>0</td>\n",
              "      <td>9.999876e-01</td>\n",
              "      <td>1.0</td>\n",
              "      <td>8055.06</td>\n",
              "    </tr>\n",
              "    <tr>\n",
              "      <th>3</th>\n",
              "      <td>550</td>\n",
              "      <td>4</td>\n",
              "      <td>342309.91</td>\n",
              "      <td>C662184778</td>\n",
              "      <td>342309.91</td>\n",
              "      <td>0.00</td>\n",
              "      <td>C1740503020</td>\n",
              "      <td>0.00</td>\n",
              "      <td>0.00</td>\n",
              "      <td>Fraud</td>\n",
              "      <td>0</td>\n",
              "      <td>9.999997e-01</td>\n",
              "      <td>1.0</td>\n",
              "      <td>342309.91</td>\n",
              "    </tr>\n",
              "    <tr>\n",
              "      <th>4</th>\n",
              "      <td>586</td>\n",
              "      <td>1</td>\n",
              "      <td>2581549.92</td>\n",
              "      <td>C648614053</td>\n",
              "      <td>2581549.92</td>\n",
              "      <td>0.00</td>\n",
              "      <td>C213455810</td>\n",
              "      <td>0.00</td>\n",
              "      <td>2581549.92</td>\n",
              "      <td>Fraud</td>\n",
              "      <td>0</td>\n",
              "      <td>1.000000e+00</td>\n",
              "      <td>1.0</td>\n",
              "      <td>2581549.92</td>\n",
              "    </tr>\n",
              "    <tr>\n",
              "      <th>...</th>\n",
              "      <td>...</td>\n",
              "      <td>...</td>\n",
              "      <td>...</td>\n",
              "      <td>...</td>\n",
              "      <td>...</td>\n",
              "      <td>...</td>\n",
              "      <td>...</td>\n",
              "      <td>...</td>\n",
              "      <td>...</td>\n",
              "      <td>...</td>\n",
              "      <td>...</td>\n",
              "      <td>...</td>\n",
              "      <td>...</td>\n",
              "      <td>...</td>\n",
              "    </tr>\n",
              "    <tr>\n",
              "      <th>16421</th>\n",
              "      <td>382</td>\n",
              "      <td>1</td>\n",
              "      <td>542461.74</td>\n",
              "      <td>C664480557</td>\n",
              "      <td>0.00</td>\n",
              "      <td>0.00</td>\n",
              "      <td>C1725191429</td>\n",
              "      <td>1757516.20</td>\n",
              "      <td>2299977.94</td>\n",
              "      <td>No fraud</td>\n",
              "      <td>0</td>\n",
              "      <td>5.424617e+06</td>\n",
              "      <td>1.0</td>\n",
              "      <td>542461.74</td>\n",
              "    </tr>\n",
              "    <tr>\n",
              "      <th>16422</th>\n",
              "      <td>40</td>\n",
              "      <td>3</td>\n",
              "      <td>2032.93</td>\n",
              "      <td>C1544432489</td>\n",
              "      <td>7625673.00</td>\n",
              "      <td>7627705.93</td>\n",
              "      <td>C1918821785</td>\n",
              "      <td>323961.50</td>\n",
              "      <td>321928.56</td>\n",
              "      <td>No fraud</td>\n",
              "      <td>0</td>\n",
              "      <td>2.665902e-04</td>\n",
              "      <td>1.0</td>\n",
              "      <td>2032.93</td>\n",
              "    </tr>\n",
              "    <tr>\n",
              "      <th>16423</th>\n",
              "      <td>484</td>\n",
              "      <td>1</td>\n",
              "      <td>156220.74</td>\n",
              "      <td>C389614238</td>\n",
              "      <td>156220.74</td>\n",
              "      <td>0.00</td>\n",
              "      <td>C643171110</td>\n",
              "      <td>0.00</td>\n",
              "      <td>156220.74</td>\n",
              "      <td>Fraud</td>\n",
              "      <td>0</td>\n",
              "      <td>9.999994e-01</td>\n",
              "      <td>1.0</td>\n",
              "      <td>156220.74</td>\n",
              "    </tr>\n",
              "    <tr>\n",
              "      <th>16424</th>\n",
              "      <td>71</td>\n",
              "      <td>4</td>\n",
              "      <td>1871553.73</td>\n",
              "      <td>C677678546</td>\n",
              "      <td>1871553.73</td>\n",
              "      <td>0.00</td>\n",
              "      <td>C646623849</td>\n",
              "      <td>0.00</td>\n",
              "      <td>0.00</td>\n",
              "      <td>Fraud</td>\n",
              "      <td>0</td>\n",
              "      <td>9.999999e-01</td>\n",
              "      <td>1.0</td>\n",
              "      <td>1871553.73</td>\n",
              "    </tr>\n",
              "    <tr>\n",
              "      <th>16425</th>\n",
              "      <td>335</td>\n",
              "      <td>3</td>\n",
              "      <td>98932.38</td>\n",
              "      <td>C2033626434</td>\n",
              "      <td>1609496.52</td>\n",
              "      <td>1708428.90</td>\n",
              "      <td>C1360574838</td>\n",
              "      <td>3484293.51</td>\n",
              "      <td>3385361.13</td>\n",
              "      <td>No fraud</td>\n",
              "      <td>0</td>\n",
              "      <td>6.146790e-02</td>\n",
              "      <td>1.0</td>\n",
              "      <td>98932.38</td>\n",
              "    </tr>\n",
              "  </tbody>\n",
              "</table>\n",
              "<p>16426 rows × 14 columns</p>\n",
              "</div>"
            ],
            "text/plain": [
              "       step  type      amount     nameOrig  oldbalanceOrg  newbalanceOrig  \\\n",
              "0       397     3    76550.74   C658247527     1096252.93      1172803.66   \n",
              "1       251     2    12617.11  C1812418129      339181.87       326564.76   \n",
              "2        98     1     8055.06  C1544350298        8055.06            0.00   \n",
              "3       550     4   342309.91   C662184778      342309.91            0.00   \n",
              "4       586     1  2581549.92   C648614053     2581549.92            0.00   \n",
              "...     ...   ...         ...          ...            ...             ...   \n",
              "16421   382     1   542461.74   C664480557           0.00            0.00   \n",
              "16422    40     3     2032.93  C1544432489     7625673.00      7627705.93   \n",
              "16423   484     1   156220.74   C389614238      156220.74            0.00   \n",
              "16424    71     4  1871553.73   C677678546     1871553.73            0.00   \n",
              "16425   335     3    98932.38  C2033626434     1609496.52      1708428.90   \n",
              "\n",
              "          nameDest  oldbalanceDest  newbalanceDest   isFraud  isFlaggedFraud  \\\n",
              "0       C492670573      2208784.02      2132233.28  No fraud               0   \n",
              "1      M1924423059            0.00            0.00  No fraud               0   \n",
              "2       C912405348            0.00         8055.06     Fraud               0   \n",
              "3      C1740503020            0.00            0.00     Fraud               0   \n",
              "4       C213455810            0.00      2581549.92     Fraud               0   \n",
              "...            ...             ...             ...       ...             ...   \n",
              "16421  C1725191429      1757516.20      2299977.94  No fraud               0   \n",
              "16422  C1918821785       323961.50       321928.56  No fraud               0   \n",
              "16423   C643171110            0.00       156220.74     Fraud               0   \n",
              "16424   C646623849            0.00            0.00     Fraud               0   \n",
              "16425  C1360574838      3484293.51      3385361.13  No fraud               0   \n",
              "\n",
              "       amount_relative_to_balance_orig  newbalanceDest_rank  \\\n",
              "0                         6.982944e-02                  1.0   \n",
              "1                         3.719865e-02                  1.0   \n",
              "2                         9.999876e-01                  1.0   \n",
              "3                         9.999997e-01                  1.0   \n",
              "4                         1.000000e+00                  1.0   \n",
              "...                                ...                  ...   \n",
              "16421                     5.424617e+06                  1.0   \n",
              "16422                     2.665902e-04                  1.0   \n",
              "16423                     9.999994e-01                  1.0   \n",
              "16424                     9.999999e-01                  1.0   \n",
              "16425                     6.146790e-02                  1.0   \n",
              "\n",
              "       average_transaction_amount_dest  \n",
              "0                             76550.74  \n",
              "1                             12617.11  \n",
              "2                              8055.06  \n",
              "3                            342309.91  \n",
              "4                           2581549.92  \n",
              "...                                ...  \n",
              "16421                        542461.74  \n",
              "16422                          2032.93  \n",
              "16423                        156220.74  \n",
              "16424                       1871553.73  \n",
              "16425                         98932.38  \n",
              "\n",
              "[16426 rows x 14 columns]"
            ]
          },
          "execution_count": 95,
          "metadata": {},
          "output_type": "execute_result"
        }
      ],
      "source": [
        "# Printing out the new dataset with engineered features\n",
        "\n",
        "df_resampled"
      ]
    },
    {
      "cell_type": "markdown",
      "id": "0f3426d2",
      "metadata": {
        "id": "0f3426d2"
      },
      "source": [
        "## Retraining the gaussian model"
      ]
    },
    {
      "cell_type": "code",
      "execution_count": null,
      "id": "8123dc8e",
      "metadata": {
        "id": "8123dc8e"
      },
      "outputs": [],
      "source": [
        "# Dividing the dataset with new features into the features (X) and target (Y) datasets\n",
        "\n",
        "X = df_resampled[['type','amount','oldbalanceOrg','newbalanceOrig','oldbalanceDest','newbalanceDest','isFlaggedFraud','amount_relative_to_balance_orig','newbalanceDest_rank','average_transaction_amount_dest']]\n",
        "Y = df_resampled.isFraud"
      ]
    },
    {
      "cell_type": "code",
      "execution_count": null,
      "id": "9524f05b",
      "metadata": {
        "id": "9524f05b"
      },
      "outputs": [],
      "source": [
        "# Splitting the X and Y datasets into train and test sets.\n",
        "\n",
        "X_train,X_val,Y_train,Y_val=train_test_split(X,Y,test_size=0.2, random_state=42)"
      ]
    },
    {
      "cell_type": "code",
      "execution_count": null,
      "id": "f38fc18b",
      "metadata": {
        "id": "f38fc18b"
      },
      "outputs": [],
      "source": [
        "# Training the gaussian model\n",
        "\n",
        "First_model = GaussianNB().fit(X_train,Y_train)"
      ]
    },
    {
      "cell_type": "code",
      "execution_count": null,
      "id": "56913eae",
      "metadata": {
        "id": "56913eae"
      },
      "outputs": [],
      "source": [
        "# Predicting the target variable of training dataset with the trained model\n",
        "\n",
        "y_train_pred = First_model.predict(X_train)"
      ]
    },
    {
      "cell_type": "code",
      "execution_count": null,
      "id": "502dfeb1",
      "metadata": {
        "id": "502dfeb1"
      },
      "outputs": [],
      "source": [
        "# Determining the performance of the model on the training set\n",
        "\n",
        "First_accuracy_train= accuracy_score(Y_train,y_train_pred)\n",
        "First_conf_matrix_train= confusion_matrix(Y_train, y_train_pred)\n",
        "First_classification_report_train= classification_report(Y_train, y_train_pred)"
      ]
    },
    {
      "cell_type": "code",
      "execution_count": null,
      "id": "e68007a2",
      "metadata": {
        "scrolled": false,
        "id": "e68007a2",
        "outputId": "390a7ca7-bec5-4df9-e225-c304aca95365"
      },
      "outputs": [
        {
          "name": "stdout",
          "output_type": "stream",
          "text": [
            "Accuracy of First Model on training set:0.7775\n",
            "Training set Confusion Matrix(First_model):\n",
            "[[4204 2345]\n",
            " [ 579 6012]]\n",
            "              precision    recall  f1-score   support\n",
            "\n",
            "       Fraud       0.88      0.64      0.74      6549\n",
            "    No fraud       0.72      0.91      0.80      6591\n",
            "\n",
            "    accuracy                           0.78     13140\n",
            "   macro avg       0.80      0.78      0.77     13140\n",
            "weighted avg       0.80      0.78      0.77     13140\n",
            "\n"
          ]
        }
      ],
      "source": [
        "# Printing out the performance metrics of the model on the training set\n",
        "\n",
        "print(f\"Accuracy of First Model on training set:{First_accuracy_train:.4f}\")\n",
        "print(\"Training set Confusion Matrix(First_model):\")\n",
        "print(First_conf_matrix_train)\n",
        "print(First_classification_report_train)"
      ]
    },
    {
      "cell_type": "markdown",
      "id": "b1c5d5c0",
      "metadata": {
        "id": "b1c5d5c0"
      },
      "source": [
        "The accuracy of the model trained after features engineering is better than that of the model trained with the raw data"
      ]
    },
    {
      "cell_type": "code",
      "execution_count": null,
      "id": "6be377ea",
      "metadata": {
        "id": "6be377ea"
      },
      "outputs": [],
      "source": [
        "# Predicting the target variable of test/validation dataset with the trained model\n",
        "\n",
        "y_val_pred = First_model.predict(X_val)"
      ]
    },
    {
      "cell_type": "code",
      "execution_count": null,
      "id": "30d66825",
      "metadata": {
        "id": "30d66825"
      },
      "outputs": [],
      "source": [
        "# Determining the performance of the model on the test/validation set\n",
        "\n",
        "First_accuracy = accuracy_score(Y_val,y_val_pred)\n",
        "conf_matrix_First = confusion_matrix(Y_val, y_val_pred)\n",
        "classification_report_First= classification_report(Y_val, y_val_pred)"
      ]
    },
    {
      "cell_type": "code",
      "execution_count": null,
      "id": "a13dc8b2",
      "metadata": {
        "scrolled": true,
        "id": "a13dc8b2",
        "outputId": "1c003eef-b7c2-42ca-ee80-12c517b59102"
      },
      "outputs": [
        {
          "name": "stdout",
          "output_type": "stream",
          "text": [
            "First Model Accuracy:0.7559\n",
            "Confusion Matrix(First_model):\n",
            "[[1022  642]\n",
            " [ 160 1462]]\n",
            "              precision    recall  f1-score   support\n",
            "\n",
            "       Fraud       0.86      0.61      0.72      1664\n",
            "    No fraud       0.69      0.90      0.78      1622\n",
            "\n",
            "    accuracy                           0.76      3286\n",
            "   macro avg       0.78      0.76      0.75      3286\n",
            "weighted avg       0.78      0.76      0.75      3286\n",
            "\n"
          ]
        }
      ],
      "source": [
        "# Printing out the performance metrics of the model on the test/validation set\n",
        "\n",
        "print(f\"First Model Accuracy:{First_accuracy:.4f}\")\n",
        "print(\"Confusion Matrix(First_model):\")\n",
        "print(conf_matrix_First)\n",
        "print(classification_report_First)"
      ]
    },
    {
      "cell_type": "markdown",
      "id": "86c82384",
      "metadata": {
        "id": "86c82384"
      },
      "source": [
        "The accuracy of the model trained after features engineering is better than that of the model trained with the raw data"
      ]
    },
    {
      "cell_type": "markdown",
      "id": "d646ff24",
      "metadata": {
        "id": "d646ff24"
      },
      "source": [
        "## Subsetting out the misclassified data to be used for the training of the second model"
      ]
    },
    {
      "cell_type": "code",
      "execution_count": null,
      "id": "fc0337ef",
      "metadata": {
        "id": "fc0337ef",
        "outputId": "8a4598e0-13ff-4a35-f137-e019981e2c9e"
      },
      "outputs": [
        {
          "data": {
            "text/plain": [
              "isFraud\n",
              "Fraud       642\n",
              "No fraud    160\n",
              "Name: count, dtype: int64"
            ]
          },
          "execution_count": 138,
          "metadata": {},
          "output_type": "execute_result"
        }
      ],
      "source": [
        "# Getting the indices of the misclassified data\n",
        "error_indices = [i for i, (true_val, pred_val) in enumerate(zip(Y_val, y_val_pred)) if true_val != pred_val]\n",
        "\n",
        "# Resetting index of X_val and Y_val\n",
        "X_val_reset = X_val.reset_index(drop=True)\n",
        "Y_val_reset = Y_val.reset_index(drop=True)\n",
        "\n",
        "# Using the reset indices to extract X_improve and y_improve (the features and target\n",
        "# dataset to be used for training the second model)\n",
        "X_improve = X_val_reset.loc[error_indices]\n",
        "y_improve = Y_val_reset.loc[error_indices]\n",
        "\n",
        "# Checking the value counts of the target\n",
        "y_improve.value_counts()"
      ]
    },
    {
      "cell_type": "code",
      "execution_count": null,
      "id": "cb65695a",
      "metadata": {
        "id": "cb65695a"
      },
      "outputs": [],
      "source": [
        "# Scaling the data to improve training\n",
        "\n",
        "from sklearn.preprocessing import StandardScaler\n",
        "\n",
        "scaler = StandardScaler()\n",
        "X_improved_scaled = scaler.fit_transform(X_improve)\n",
        "X_val_scaled = scaler.transform(X_val)"
      ]
    },
    {
      "cell_type": "code",
      "execution_count": null,
      "id": "6b1a119d",
      "metadata": {
        "scrolled": true,
        "id": "6b1a119d",
        "outputId": "7d238fcb-84f0-40e2-8941-e3f643563143"
      },
      "outputs": [
        {
          "data": {
            "text/plain": [
              "RandomForestClassifier()"
            ]
          },
          "execution_count": 140,
          "metadata": {},
          "output_type": "execute_result"
        }
      ],
      "source": [
        "# Traing the randome forest classifier model\n",
        "\n",
        "improved_model= RandomForestClassifier()\n",
        "improved_model.fit(X_improved_scaled, y_improve)"
      ]
    },
    {
      "cell_type": "markdown",
      "id": "017289af",
      "metadata": {
        "id": "017289af"
      },
      "source": [
        "### Performing hyperparameter tunning to improve the random forest classifier model"
      ]
    },
    {
      "cell_type": "code",
      "execution_count": null,
      "id": "81ef02cf",
      "metadata": {
        "id": "81ef02cf",
        "outputId": "361c5f49-ce1d-4ebb-9bcd-56cc362be153"
      },
      "outputs": [
        {
          "name": "stdout",
          "output_type": "stream",
          "text": [
            "Best Hyperparameters: {'max_depth': None, 'min_samples_leaf': 1, 'min_samples_split': 5, 'n_estimators': 50}\n",
            "Accuracy: 0.6454656116859403\n",
            "              precision    recall  f1-score   support\n",
            "\n",
            "       Fraud       0.59      0.98      0.74      1664\n",
            "    No fraud       0.95      0.30      0.45      1622\n",
            "\n",
            "    accuracy                           0.65      3286\n",
            "   macro avg       0.77      0.64      0.60      3286\n",
            "weighted avg       0.77      0.65      0.60      3286\n",
            "\n",
            "[[1638   26]\n",
            " [1139  483]]\n"
          ]
        }
      ],
      "source": [
        "from sklearn.model_selection import GridSearchCV\n",
        "\n",
        "\n",
        "# Defining the hyperparameter grid to search\n",
        "param_grid = {\n",
        "    'n_estimators': [50, 100, 200],\n",
        "    'max_depth': [None, 10, 20],\n",
        "    'min_samples_split': [2, 5, 10],\n",
        "    'min_samples_leaf': [1, 2, 4]\n",
        "}\n",
        "\n",
        "# Using GridSearchCV to search for the best hyperparameters\n",
        "grid_search = GridSearchCV(estimator=improved_model, param_grid=param_grid, cv=5, scoring='accuracy', n_jobs=-1)\n",
        "grid_search.fit(X_improved_scaled, y_improve)\n",
        "\n",
        "# Printing out the best hyperparameters\n",
        "print(\"Best Hyperparameters:\", grid_search.best_params_)\n",
        "\n",
        "# Getting the best model using the best parameters\n",
        "best_rf_model = grid_search.best_estimator_\n",
        "\n",
        "# Making predictions on the test set\n",
        "predictions = best_rf_model.predict(X_val_scaled)\n",
        "\n",
        "# Evaluating the model\n",
        "accuracy = accuracy_score(Y_val, predictions)\n",
        "print(f\"Accuracy: {accuracy}\")\n",
        "\n",
        "# Printing out the classification report\n",
        "print(classification_report(Y_val, predictions))\n",
        "print(confusion_matrix(Y_val, predictions))"
      ]
    },
    {
      "cell_type": "markdown",
      "id": "b6b707e9",
      "metadata": {
        "id": "b6b707e9"
      },
      "source": [
        "## Defining a function for linearly combining the two models\n",
        "\n",
        "The function takes into consideration the strength of each model and returns the prediction of the stronger model for each of the cases predicted to be fraudulent or not."
      ]
    },
    {
      "cell_type": "code",
      "execution_count": null,
      "id": "532464d9",
      "metadata": {
        "id": "532464d9"
      },
      "outputs": [],
      "source": [
        "def combine_predictions(model1_preds, model2_preds):\n",
        "    combined_preds = []\n",
        "\n",
        "    if isinstance(model1_preds[0], str):\n",
        "        model1_preds = ['Fraud' if pred == 'Fraud' else 'No fraud' for pred in model1_preds]\n",
        "        model2_preds = ['Fraud' if pred == 'Fraud' else 'No fraud' for pred in model2_preds]\n",
        "\n",
        "    # Appending results to the combined_preds array\n",
        "    for pred1, pred2 in zip(model1_preds, model2_preds):\n",
        "        if pred1 == 'Fraud' and pred2 == 'Fraud':\n",
        "            combined_preds.append('Fraud')\n",
        "        elif pred1 == 'No fraud' and pred2 == 'No fraud':\n",
        "            combined_preds.append('No fraud')\n",
        "        else:\n",
        "            combined_preds.append('No fraud')\n",
        "\n",
        "    return combined_preds\n",
        "\n"
      ]
    },
    {
      "cell_type": "code",
      "execution_count": null,
      "id": "9b2671b3",
      "metadata": {
        "id": "9b2671b3"
      },
      "outputs": [],
      "source": [
        "# Predicting X-val with the first model\n",
        "First_model_val_preds = First_model.predict(X_val)\n",
        "\n",
        "# Predicting X-val_scaled with the second model\n",
        "improved_model_val_preds = best_rf_model.predict(X_val_scaled)\n",
        "\n",
        "# combining the predictions of the two medels with the combining function\n",
        "combined_val_preds = combine_predictions(First_model_val_preds, improved_model_val_preds)\n"
      ]
    },
    {
      "cell_type": "code",
      "execution_count": null,
      "id": "20ea9b3f",
      "metadata": {
        "id": "20ea9b3f"
      },
      "outputs": [],
      "source": [
        "# Calculating the classification metrics of the combined model.\n",
        "combined_accuracy = accuracy_score(Y_val, combined_val_preds)\n",
        "combined_matrix = confusion_matrix(Y_val, combined_val_preds)\n"
      ]
    },
    {
      "cell_type": "code",
      "execution_count": null,
      "id": "04069189",
      "metadata": {
        "scrolled": true,
        "id": "04069189",
        "outputId": "561178fa-001b-4052-87c6-1f1747ef5bc1"
      },
      "outputs": [
        {
          "name": "stdout",
          "output_type": "stream",
          "text": [
            "Confusion Matrix:\n",
            "[[ 996  668]\n",
            " [   0 1622]]\n",
            "\n",
            "Classification Report:\n",
            "              precision    recall  f1-score   support\n",
            "\n",
            "       Fraud       1.00      0.60      0.75      1664\n",
            "    No fraud       0.71      1.00      0.83      1622\n",
            "\n",
            "    accuracy                           0.80      3286\n",
            "   macro avg       0.85      0.80      0.79      3286\n",
            "weighted avg       0.86      0.80      0.79      3286\n",
            "\n",
            "\n",
            "Accuracy: 0.7967133292757151\n"
          ]
        }
      ],
      "source": [
        "# Printing out the performance report of the combined model.\n",
        "\n",
        "print(\"Confusion Matrix:\")\n",
        "print(combined_matrix)\n",
        "\n",
        "print(\"\\nClassification Report:\")\n",
        "print(classification_report(Y_val, combined_val_preds))\n",
        "\n",
        "print(\"\\nAccuracy:\", combined_accuracy)\n"
      ]
    },
    {
      "cell_type": "code",
      "execution_count": null,
      "id": "65cf1202",
      "metadata": {
        "id": "65cf1202",
        "outputId": "052dd91e-dc5d-4b23-d82a-9cd2dea34941"
      },
      "outputs": [
        {
          "data": {
            "text/plain": [
              "['combine_predictions.pkl']"
            ]
          },
          "execution_count": 148,
          "metadata": {},
          "output_type": "execute_result"
        }
      ],
      "source": [
        "# Saving the model into pkl files for future usage\n",
        "\n",
        "import joblib\n",
        "\n",
        "# Save the first model\n",
        "joblib.dump(First_model, 'First_model.pkl')\n",
        "\n",
        "# Save the improved model\n",
        "joblib.dump(best_rf_model, 'Improved_model.pkl')\n",
        "\n",
        "# Save the combine_predictions function\n",
        "joblib.dump(combine_predictions, 'combine_predictions.pkl')\n"
      ]
    },
    {
      "cell_type": "code",
      "execution_count": null,
      "id": "24301dca",
      "metadata": {
        "id": "24301dca",
        "outputId": "891ada88-8c38-4a6d-aed4-914898b5191d"
      },
      "outputs": [
        {
          "name": "stdout",
          "output_type": "stream",
          "text": [
            "<function combine_predictions at 0x000001A217B5FE50>\n"
          ]
        }
      ],
      "source": [
        "# Loading the models from the pkl files\n",
        "\n",
        "# Load the first model\n",
        "loaded_first_model = joblib.load('First_model.pkl')\n",
        "\n",
        "# Load the improved model\n",
        "loaded_improved_model = joblib.load('Improved_model.pkl')\n",
        "\n",
        "# Load the combine_predictions function\n",
        "loaded_combine_predictions = joblib.load('combine_predictions.pkl')\n",
        "\n",
        "# Print the content of the loaded function\n",
        "print(loaded_combine_predictions)\n"
      ]
    },
    {
      "cell_type": "markdown",
      "id": "db7e550e",
      "metadata": {
        "id": "db7e550e"
      },
      "source": [
        "## Defining the function to take in new data points, predict the fraud posibility of the transaction details using the combined model loaded from the pkl files and printing out the prediction"
      ]
    },
    {
      "cell_type": "code",
      "execution_count": null,
      "id": "92db70f6",
      "metadata": {
        "id": "92db70f6"
      },
      "outputs": [],
      "source": [
        "import pickle\n",
        "\n",
        "# Function to preprocess input data\n",
        "def preprocess_input(data):\n",
        "    # Convert 'type' feature to numerical encoding\n",
        "    type_mapping = {'PAYMENT': 2, 'TRANSFER': 4, 'CASH_OUT': 1, 'DEBIT': 5, 'CASH_IN': 3}\n",
        "\n",
        "    # Map the 'type' column to numerical values\n",
        "    data['type'] = data['type'].map(type_mapping)\n",
        "\n",
        "    # Return the preprocessed data\n",
        "    return data\n",
        "\n",
        "# Function to make predictions\n",
        "def make_predictions(model1, model2, input_data):\n",
        "    # Model1 and Model2 are placeholders for the two loaded models\n",
        "    # Preprocess input data\n",
        "    preprocessed_data = preprocess_input(input_data)\n",
        "\n",
        "    # Making predictions using loaded models\n",
        "    pred1 = model1.predict(preprocessed_data)\n",
        "    pred2 = model2.predict(preprocessed_data)\n",
        "\n",
        "    # Combining predictions using the loaded_combine_predictions function\n",
        "    combined_preds = loaded_combine_predictions(pred1, pred2)\n",
        "\n",
        "    return combined_preds\n",
        "\n",
        "# Function to display prediction result\n",
        "def display_prediction_result(result):\n",
        "    if result[0] == 'Fraud':\n",
        "        print(\"Predicted Result: Fraud\")\n",
        "    else:\n",
        "        print(\"Predicted Result: No Fraud\")\n"
      ]
    },
    {
      "cell_type": "markdown",
      "id": "3e4888f3",
      "metadata": {
        "id": "3e4888f3"
      },
      "source": [
        "Utilizing the created functions for prediction of fraud possibility for a sample user input.\n",
        "\n",
        "We start off by loading the models from the pkl files, carrying out the prediction and displaying the result"
      ]
    },
    {
      "cell_type": "code",
      "execution_count": null,
      "id": "66fb7f55",
      "metadata": {
        "id": "66fb7f55",
        "outputId": "a7c402c6-12d7-4fe5-b601-72b43f607b83"
      },
      "outputs": [
        {
          "name": "stdout",
          "output_type": "stream",
          "text": [
            "Predicted Result: No Fraud\n"
          ]
        }
      ],
      "source": [
        "# Loading the first model\n",
        "with open('First_model.pkl', 'rb') as model_file:\n",
        "    loaded_first_model = joblib.load(model_file)\n",
        "\n",
        "# Loading the improved model\n",
        "with open('Improved_model.pkl', 'rb') as model_file:\n",
        "    loaded_improved_model = joblib.load(model_file)\n",
        "\n",
        "# Loading the combine_predictions function\n",
        "with open('combine_predictions.pkl', 'rb') as model_file:\n",
        "    loaded_combine_predictions = joblib.load(model_file)\n",
        "\n",
        "# Sample user input\n",
        "user_input = {\n",
        "    'type': 'TRANSFER',\n",
        "    'amount': 76550.74,\n",
        "    'oldbalanceOrg': 76550.74,\n",
        "    'newbalanceOrig': 0,\n",
        "    'oldbalanceDest': 2208784.02,\n",
        "    'newbalanceDest': 2132233.28,\n",
        "    'isFlaggedFraud': 1,\n",
        "    'amount_relative_to_balance_orig': 1.1,\n",
        "    'newbalanceDest_rank': 3.0,\n",
        "    'average_transaction_amount_dest': 76550.74\n",
        "}\n",
        "\n",
        "# Converting user input (a dictionary) to a DataFrame\n",
        "user_input_df = pd.DataFrame([user_input])\n",
        "\n",
        "# Making predictions\n",
        "result = make_predictions( loaded_first_model,loaded_improved_model, user_input_df)\n",
        "\n",
        "# Displaying the predicted class labels directly\n",
        "display_prediction_result(result)\n"
      ]
    },
    {
      "cell_type": "markdown",
      "id": "52d47b7d",
      "metadata": {
        "id": "52d47b7d"
      },
      "source": [
        "Hope you enjoyed the journey\n",
        "\n",
        "## The End"
      ]
    }
  ],
  "metadata": {
    "kernelspec": {
      "display_name": "Python 3",
      "language": "python",
      "name": "python3"
    },
    "language_info": {
      "codemirror_mode": {
        "name": "ipython",
        "version": 3
      },
      "file_extension": ".py",
      "mimetype": "text/x-python",
      "name": "python",
      "nbconvert_exporter": "python",
      "pygments_lexer": "ipython3",
      "version": "3.8.8"
    },
    "colab": {
      "provenance": [],
      "include_colab_link": true
    }
  },
  "nbformat": 4,
  "nbformat_minor": 5
}